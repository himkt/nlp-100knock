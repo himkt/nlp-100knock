{
 "cells": [
  {
   "cell_type": "code",
   "execution_count": 403,
   "metadata": {
    "collapsed": true
   },
   "outputs": [],
   "source": [
    "from sklearn.feature_extraction.text import CountVectorizer\n",
    "from sklearn.linear_model import LogisticRegression\n",
    "from sklearn.cross_validation import train_test_split\n",
    "from nltk.corpus import stopwords\n",
    "from stemming.porter2 import stem\n",
    "from random import shuffle\n",
    "from re import sub\n",
    "from numpy.random import rand\n",
    "from numpy import shape, exp, log, array"
   ]
  },
  {
   "cell_type": "code",
   "execution_count": 29,
   "metadata": {
    "collapsed": false
   },
   "outputs": [
    {
     "name": "stdout",
     "output_type": "stream",
     "text": [
      "5330\n",
      "5331\n"
     ]
    }
   ],
   "source": [
    "neg_l = list(\"-1 %s\" % line.rstrip() for line in open('../../data/rt-polaritydata/rt-polarity.neg'))\n",
    "pos_l = list(\"+1 %s\" % line.rstrip() for line in open('../../data/rt-polaritydata/rt-polarity.pos'))\n",
    "\n",
    "sen_l = neg_l + pos_l\n",
    "shuffle(sen_l)\n",
    "\n",
    "print(len(list(filter(lambda l: l[0:2] == '+1', sen_l))))\n",
    "print(len(list(filter(lambda l: l[0:2] == '-1', sen_l))))"
   ]
  },
  {
   "cell_type": "code",
   "execution_count": 57,
   "metadata": {
    "collapsed": false
   },
   "outputs": [],
   "source": [
    "stop_words = stopwords.words('english') + [',', '.']\n",
    "check = lambda x: x not in stop_words"
   ]
  },
  {
   "cell_type": "code",
   "execution_count": 90,
   "metadata": {
    "collapsed": false
   },
   "outputs": [],
   "source": [
    "y = list(); features = list()\n",
    "\n",
    "for line in sen_l:\n",
    "    y.append(line[0:2])\n",
    "    features.append(line[3:])\n",
    "    \n",
    "cv = CountVectorizer()\n",
    "vocab_size = len(set(sum(map(tokenize, features), [])))"
   ]
  },
  {
   "cell_type": "code",
   "execution_count": 149,
   "metadata": {
    "collapsed": false
   },
   "outputs": [],
   "source": [
    "vectorizer = CountVectorizer(\n",
    "    analyzer = 'word',\n",
    "    tokenizer = lambda text: list(map(stem, sub(\"[^a-zA-Z]\", \" \", text).split())),\n",
    "    lowercase = True,\n",
    "    stop_words = 'english',\n",
    "    max_features = int(vocab_size * 0.5) # ユニークな単語数のうち6割を使う、int()で整数にしている\n",
    ")\n",
    "\n",
    "X = vectorizer.fit_transform(features).todense()\n",
    "X_train, X_test, y_train, y_test = train_test_split(\n",
    "    X, y, test_size=0.33, random_state=42)"
   ]
  },
  {
   "cell_type": "code",
   "execution_count": 518,
   "metadata": {
    "collapsed": false
   },
   "outputs": [
    {
     "data": {
      "text/plain": [
       "LogisticRegression(C=1.0, class_weight=None, dual=False, fit_intercept=True,\n",
       "          intercept_scaling=1, max_iter=100, multi_class='ovr', n_jobs=1,\n",
       "          penalty='l2', random_state=None, solver='liblinear', tol=0.0001,\n",
       "          verbose=0, warm_start=False)"
      ]
     },
     "execution_count": 518,
     "metadata": {},
     "output_type": "execute_result"
    }
   ],
   "source": [
    "model = LogisticRegression()\n",
    "model.fit(X_train, y_train)"
   ]
  },
  {
   "cell_type": "code",
   "execution_count": 519,
   "metadata": {
    "collapsed": false
   },
   "outputs": [
    {
     "data": {
      "text/plain": [
       "0.74367718101733449"
      ]
     },
     "execution_count": 519,
     "metadata": {},
     "output_type": "execute_result"
    }
   ],
   "source": [
    "model.score(X_test, y_test)"
   ]
  },
  {
   "cell_type": "code",
   "execution_count": 559,
   "metadata": {
    "collapsed": true
   },
   "outputs": [],
   "source": [
    "class MyLogisticRegression:\n",
    "    def __init__(self):\n",
    "        self.threshold = 0.7\n",
    "    \n",
    "    \n",
    "    def h(self, X):\n",
    "        z = X.dot(self.w)\n",
    "        return 1 / (1 + exp(-z))\n",
    "        \n",
    "    \n",
    "    def fit(self, X, y):\n",
    "        self.w = rand(X.shape[1], 1)\n",
    "        for t in range(10):\n",
    "            w_tmp = self.w\n",
    "            self.w = w - 0.01 * X.T.dot(self.h(X) - y) # gradient\n",
    "    \n",
    "    \n",
    "    def predict(self, X):\n",
    "        return array([int(res) for res in self.h(X) > self.threshold]).reshape(X.shape[0], 1)\n",
    "   \n",
    "\n",
    "    def score(self, X, y):\n",
    "        res = self.predict(X)\n",
    "        num_correct = len(list(filter(lambda x: x==1, res == y))) \n",
    "        return num_correct / res.shape[0]"
   ]
  },
  {
   "cell_type": "code",
   "execution_count": 560,
   "metadata": {
    "collapsed": false
   },
   "outputs": [],
   "source": [
    "mymodel = MyLogisticRegression()\n",
    "mymodel.fit(X_train, y_train_i)"
   ]
  },
  {
   "cell_type": "code",
   "execution_count": 561,
   "metadata": {
    "collapsed": false
   },
   "outputs": [
    {
     "data": {
      "text/plain": [
       "0.6007388462631429"
      ]
     },
     "execution_count": 561,
     "metadata": {},
     "output_type": "execute_result"
    }
   ],
   "source": [
    "mymodel.score(X_test, y_test_i)"
   ]
  },
  {
   "cell_type": "code",
   "execution_count": 584,
   "metadata": {
    "collapsed": false
   },
   "outputs": [
    {
     "data": {
      "text/plain": [
       "6154"
      ]
     },
     "execution_count": 584,
     "metadata": {},
     "output_type": "execute_result"
    }
   ],
   "source": [
    "len(vectorizer.get_feature_names())"
   ]
  },
  {
   "cell_type": "code",
   "execution_count": 586,
   "metadata": {
    "collapsed": false
   },
   "outputs": [
    {
     "data": {
      "text/plain": [
       "(6154, 1)"
      ]
     },
     "execution_count": 586,
     "metadata": {},
     "output_type": "execute_result"
    }
   ],
   "source": [
    "mymodel.w.shape"
   ]
  }
 ],
 "metadata": {
  "kernelspec": {
   "display_name": "Python 3",
   "language": "python",
   "name": "python3"
  },
  "language_info": {
   "codemirror_mode": {
    "name": "ipython",
    "version": 3
   },
   "file_extension": ".py",
   "mimetype": "text/x-python",
   "name": "python",
   "nbconvert_exporter": "python",
   "pygments_lexer": "ipython3",
   "version": "3.5.1"
  }
 },
 "nbformat": 4,
 "nbformat_minor": 0
}
