{
 "cells": [
  {
   "cell_type": "code",
   "execution_count": 403,
   "metadata": {
    "collapsed": true
   },
   "outputs": [],
   "source": [
    "from sklearn.feature_extraction.text import CountVectorizer\n",
    "from sklearn.linear_model import LogisticRegression\n",
    "from sklearn.cross_validation import train_test_split\n",
    "from nltk.corpus import stopwords\n",
    "from stemming.porter2 import stem\n",
    "from random import shuffle\n",
    "from re import sub\n",
    "from numpy.random import rand\n",
    "from numpy import shape, exp, log, array"
   ]
  },
  {
   "cell_type": "code",
   "execution_count": 29,
   "metadata": {
    "collapsed": false
   },
   "outputs": [
    {
     "name": "stdout",
     "output_type": "stream",
     "text": [
      "5330\n",
      "5331\n"
     ]
    }
   ],
   "source": [
    "neg_l = list(\"-1 %s\" % line.rstrip() for line in open('../../data/rt-polaritydata/rt-polarity.neg'))\n",
    "pos_l = list(\"+1 %s\" % line.rstrip() for line in open('../../data/rt-polaritydata/rt-polarity.pos'))\n",
    "\n",
    "sen_l = neg_l + pos_l\n",
    "\n",
    "shuffle(sen_l)\n",
    "print(len(list(filter(lambda l: l[0:2] == '+1', sen_l))))\n",
    "print(len(list(filter(lambda l: l[0:2] == '-1', sen_l))))"
   ]
  },
  {
   "cell_type": "code",
   "execution_count": 57,
   "metadata": {
    "collapsed": false
   },
   "outputs": [],
   "source": [
    "stop_words = stopwords.words('english') + [',', '.']\n",
    "check = lambda x: x not in stop_words"
   ]
  },
  {
   "cell_type": "code",
   "execution_count": 90,
   "metadata": {
    "collapsed": false
   },
   "outputs": [],
   "source": [
    "y = list(); features = list()\n",
    "\n",
    "for line in sen_l:\n",
    "    y.append(line[0:2])\n",
    "    features.append(line[3:])\n",
    "    \n",
    "cv = CountVectorizer()\n",
    "vocab_size = len(set(sum(map(tokenize, features), [])))"
   ]
  },
  {
   "cell_type": "code",
   "execution_count": 149,
   "metadata": {
    "collapsed": false
   },
   "outputs": [],
   "source": [
    "vectorizer = CountVectorizer(\n",
    "    analyzer = 'word',\n",
    "    tokenizer = lambda text: list(map(stem, sub(\"[^a-zA-Z]\", \" \", text).split())),\n",
    "    lowercase = True,\n",
    "    stop_words = 'english',\n",
    "    max_features = int(vocab_size * 0.5) # ユニークな単語数のうち6割を使う、int()で整数にしている\n",
    ")"
   ]
  },
  {
   "cell_type": "code",
   "execution_count": 212,
   "metadata": {
    "collapsed": false
   },
   "outputs": [],
   "source": [
    "X = vectorizer.fit_transform(features).todense()\n",
    "X_train, X_test, y_train, y_test = train_test_split(\n",
    "    X, y, test_size=0.33, random_state=42)\n",
    "model = LogisticRegression()\n",
    "model.fit(X_train, y_train)"
   ]
  },
  {
   "cell_type": "code",
   "execution_count": 153,
   "metadata": {
    "collapsed": false
   },
   "outputs": [
    {
     "data": {
      "text/plain": [
       "0.74367718101733449"
      ]
     },
     "execution_count": 153,
     "metadata": {},
     "output_type": "execute_result"
    }
   ],
   "source": [
    "model.score(X_test, y_test)"
   ]
  },
  {
   "cell_type": "code",
   "execution_count": 402,
   "metadata": {
    "collapsed": false
   },
   "outputs": [],
   "source": [
    "# cost function\n",
    "def J(w, X, y):\n",
    "    return y.T.dot(log(h(w, X))) + (1-y).T.dot(log(1-h(w, X)))\n",
    "\n",
    "\n",
    "# sigmoid function\n",
    "def h(w, X):\n",
    "    z = X.dot(w)\n",
    "    return 1 / (1 + exp(-z))\n",
    "\n",
    "\n",
    "# compute gradient\n",
    "def grad(w, X, y):\n",
    "    return X.T.dot(h(w, X) - y)\n",
    "\n",
    "\n",
    "# check if iteration is converged\n",
    "def diff(w, w_tmp, X, y):\n",
    "    return abs(J(w, X, y) - J(w_tmp, X, y))\n",
    "\n",
    "\n",
    "def train(X, y):\n",
    "    w = rand(X.shape[1], 1)\n",
    "    \n",
    "    for t in range(100):\n",
    "        if t % 10 == 0:\n",
    "            print(t)\n",
    "            print(J(w, X, y))\n",
    "            \n",
    "        w_tmp = w\n",
    "        w = w - 0.01 * grad(w, X, y)\n",
    "        if diff(w, w_tmp, X, y) < 0.1:\n",
    "            break\n",
    "    return w\n",
    "\n",
    "\n",
    "def predict(w, X, threshold=0.7):\n",
    "    return array([int(res) for res in h(w, X) > threshold]).reshape(X.shape[0], 1)\n",
    "\n",
    "\n",
    "def score(w, X, y):\n",
    "    res = predict(w, X)\n",
    "    num_correct = len(list(filter(lambda x: x==1, res == y))) \n",
    "    return num_correct / res.shape[0]"
   ]
  },
  {
   "cell_type": "code",
   "execution_count": 398,
   "metadata": {
    "collapsed": false
   },
   "outputs": [],
   "source": [
    "y_train_i = array([int(y == '+1') for y in y_train]).reshape(y_train_i.shape[0], 1)\n",
    "y_test_i = array([int(y == '+1') for y in y_test]).reshape(y_test_i.shape[0], 1)"
   ]
  },
  {
   "cell_type": "code",
   "execution_count": 399,
   "metadata": {
    "collapsed": false
   },
   "outputs": [
    {
     "name": "stdout",
     "output_type": "stream",
     "text": [
      "0\n",
      "[[-17496.12237696]]\n",
      "10\n",
      "[[-11927.2257922]]\n",
      "20\n",
      "[[-10247.21586559]]\n",
      "30\n",
      "[[-8593.88915274]]\n",
      "40\n",
      "[[-7392.19875577]]\n",
      "50\n",
      "[[-6458.30053609]]\n",
      "60\n",
      "[[-5708.0345958]]\n",
      "70\n",
      "[[-5089.88234699]]\n",
      "80\n",
      "[[-4567.26959835]]\n",
      "90\n",
      "[[-4115.43266873]]\n"
     ]
    }
   ],
   "source": [
    "w = train(X_train, y_train_i)"
   ]
  },
  {
   "cell_type": "code",
   "execution_count": 400,
   "metadata": {
    "collapsed": false
   },
   "outputs": [
    {
     "data": {
      "text/plain": [
       "0.6882637112816141"
      ]
     },
     "execution_count": 400,
     "metadata": {},
     "output_type": "execute_result"
    }
   ],
   "source": [
    "score(w, X_test, y_test_i)"
   ]
  }
 ],
 "metadata": {
  "kernelspec": {
   "display_name": "Python 3",
   "language": "python",
   "name": "python3"
  },
  "language_info": {
   "codemirror_mode": {
    "name": "ipython",
    "version": 3
   },
   "file_extension": ".py",
   "mimetype": "text/x-python",
   "name": "python",
   "nbconvert_exporter": "python",
   "pygments_lexer": "ipython3",
   "version": "3.5.1"
  }
 },
 "nbformat": 4,
 "nbformat_minor": 0
}
