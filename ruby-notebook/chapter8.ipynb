{
 "cells": [
  {
   "cell_type": "code",
   "execution_count": 1,
   "metadata": {
    "collapsed": false
   },
   "outputs": [
    {
     "data": {
      "text/plain": [
       "true"
      ]
     },
     "execution_count": 1,
     "metadata": {},
     "output_type": "execute_result"
    }
   ],
   "source": [
    "require 'numo/narray'"
   ]
  },
  {
   "cell_type": "markdown",
   "metadata": {},
   "source": [
    "# 70. データの入手・整形\n",
    "文に関する極性分析の正解データを用い，以下の要領で正解データ（sentiment.txt）を作成せよ．\n",
    "\n",
    "rt-polarity.posの各行の先頭に\"+1 \"という文字列を追加する（極性ラベル\"+1\"とスペースに続けて肯定的な文の内容が続く）\n",
    "rt-polarity.negの各行の先頭に\"-1 \"という文字列を追加する（極性ラベル\"-1\"とスペースに続けて否定的な文の内容が続く）\n",
    "上述1と2の内容を結合（concatenate）し，行をランダムに並び替える\n",
    "sentiment.txtを作成したら，正例（肯定的な文）の数と負例（否定的な文）の数を確認せよ．"
   ]
  },
  {
   "cell_type": "code",
   "execution_count": 2,
   "metadata": {
    "collapsed": false
   },
   "outputs": [
    {
     "data": {
      "text/plain": [
       "{\"+1\"=>5330, \"-1\"=>5330}"
      ]
     },
     "execution_count": 2,
     "metadata": {},
     "output_type": "execute_result"
    }
   ],
   "source": [
    "pos = File.open(\"../data/rt-polaritydata/rt-polarity.pos\").read\n",
    "neg = File.open(\"../data/rt-polaritydata/rt-polarity.pos\").read\n",
    "\n",
    "pos_tagged = pos.split(\"\\n\").map {|line| \"+1 #{line}\"}\n",
    "neg_tagged = neg.split(\"\\n\").map {|line| \"-1 #{line}\"}\n",
    "sen = (pos_tagged + neg_tagged).shuffle\n",
    "counter = {\"+1\" => 0, \"-1\" => 0}\n",
    "\n",
    "out = File.open(\"../data/sentiment.txt\", \"w\")\n",
    "sen.each do |line|\n",
    "  out.puts line\n",
    "end\n",
    "out.close\n",
    "\n",
    "open('../data/sentiment.txt').each_line do |line|\n",
    "  counter[line[0..1]] += 1\n",
    "end\n",
    "\n",
    "counter"
   ]
  },
  {
   "cell_type": "markdown",
   "metadata": {},
   "source": [
    "# 71. ストップワード\n",
    "英語のストップワードのリスト（ストップリスト）を適当に作成せよ．さらに，引数に与えられた単語（文字列）がストップリストに含まれている場合は真，それ以外は偽を返す関数を実装せよ．さらに，その関数に対するテストを記述せよ．"
   ]
  },
  {
   "cell_type": "code",
   "execution_count": 3,
   "metadata": {
    "collapsed": false
   },
   "outputs": [
    {
     "name": "stdout",
     "output_type": "stream",
     "text": [
      "false\n",
      "true\n",
      "true\n"
     ]
    }
   ],
   "source": [
    "word_freq = Hash.new { |h, k| h[k] = 0 }\n",
    "\n",
    "open('../data/sentiment.txt').each_line do |line|\n",
    "  line[2..-1].chomp.split.each do |word|\n",
    "    word_freq[word] += 1\n",
    "  end\n",
    "end\n",
    "\n",
    "# 出現頻度が高い単語上位100語をストップワードにした\n",
    "stop_list = word_freq.sort {|(_, v1), (_, v2)| v2 <=> v1}[0..100].map {|arr| arr[0]}\n",
    "stop_list += word_freq.select {|k, v| v < 5}.map {|arr| arr[0]}\n",
    "\n",
    "def is_stopped?(word, stop_list)\n",
    "  stop_list.include? word\n",
    "end\n",
    "\n",
    "# goodとかがストップワードになっちゃった...\n",
    "puts is_stopped?(\"lion\", stop_list)\n",
    "puts is_stopped?(\"does\", stop_list)\n",
    "puts is_stopped?(\"good\", stop_list)"
   ]
  },
  {
   "cell_type": "markdown",
   "metadata": {},
   "source": [
    "# 72. 素性抽出\n",
    "極性分析に有用そうな素性を各自で設計し，学習データから素性を抽出せよ．素性としては，レビューからストップワードを除去し，各単語をステミング処理したものが最低限のベースラインとなるであろう．\n",
    "\n"
   ]
  },
  {
   "cell_type": "code",
   "execution_count": 4,
   "metadata": {
    "collapsed": false
   },
   "outputs": [
    {
     "data": {
      "text/plain": [
       "1"
      ]
     },
     "execution_count": 4,
     "metadata": {},
     "output_type": "execute_result"
    }
   ],
   "source": [
    "all_words = []\n",
    "tf_vecs = []\n",
    "labels = []\n",
    "\n",
    "File.foreach('../data/sentiment.txt').with_index do |line, index|  \n",
    "  tf_vec = Hash.new { |h, k| h[k] = 0 }  \n",
    "  words = line[3..-1].chomp.split.reject {|word| is_stopped?(word, stop_list) }\n",
    "  all_words += words\n",
    "  \n",
    "  words.each do |word|\n",
    "    tf_vec[word] += 1\n",
    "  end\n",
    "  \n",
    "  labels << line[0..1]\n",
    "  tf_vecs << tf_vec  \n",
    "end\n",
    "\n",
    "all_words.uniq!\n",
    "word_index = {}\n",
    "\n",
    "all_words.each_with_index do |word, index|\n",
    "  word_index.store(word, index)\n",
    "end\n",
    "\n",
    "x = Numo::Float64.zeros(tf_vecs.size, all_words.size)\n",
    "y = Numo::Float64.zeros(tf_vecs.size, 1)\n",
    "w = Numo::Float64.new(all_words.size, 1).rand\n",
    "\n",
    "labels.each_with_index do |label, i|\n",
    "  y[i] = label == '+1' ? 1.0 : 0.0 \n",
    "end\n",
    "\n",
    "tf_vecs.each_with_index do |hash, i|\n",
    "  hash.each do |word, count|\n",
    "    x[i, word_index[word]] = count\n",
    "  end\n",
    "end\n",
    "\n",
    "1"
   ]
  },
  {
   "cell_type": "markdown",
   "metadata": {
    "collapsed": false
   },
   "source": [
    "# 73. 学習\n",
    "72で抽出した素性を用いて、\n",
    "ロジスティック回帰モデルを学習せよ．"
   ]
  },
  {
   "cell_type": "markdown",
   "metadata": {},
   "source": [
    "\\begin{align}\n",
    "J(\\theta) = - y log(h_{\\theta}(x))  - (1 - y) log(1 - h_{ \\theta }(x)) \\\\\n",
    "h_{\\theta} (x) = \\frac{1}{e^{-{\\theta}^T x}} \\\\\n",
    "\\frac{\\partial J(\\theta)}{\\partial x} = x^{T} (h_{\\theta}(x) - y)\n",
    "\\end{align}"
   ]
  },
  {
   "cell_type": "code",
   "execution_count": 33,
   "metadata": {
    "collapsed": false
   },
   "outputs": [
    {
     "data": {
      "text/plain": [
       ":train"
      ]
     },
     "execution_count": 33,
     "metadata": {},
     "output_type": "execute_result"
    }
   ],
   "source": [
    "def cost(w, x, y)\n",
    "  (y * Numo::NMath.log(h(w, x)) - (1-y) * Numo::NMath.log(1 - h(w, x))).mean\n",
    "end\n",
    "  \n",
    "\n",
    "def h(w, x)\n",
    "  z = x.dot(w)\n",
    "  1/ (1 + Numo::NMath.exp(-z))\n",
    "end\n",
    "\n",
    "\n",
    "def grad(w, x, y)\n",
    "  x.transpose.dup.dot(h(w, x) - y)\n",
    "end\n",
    "\n",
    "\n",
    "def check(w, w_tmp, x, y)\n",
    "  (cost(w, x, y) - cost(w_tmp, x, y)).abs\n",
    "end\n",
    "\n",
    "def train(x, y)\n",
    "  w = Numo::Float64.new(x.shape[1], 1).rand\n",
    "  \n",
    "  100.times do |t|\n",
    "    w_tmp = w\n",
    "    \n",
    "    # 学習率\n",
    "    eta = 0.01\n",
    "    w = w - grad(w, x, y) * eta\n",
    "    \n",
    "    puts \"iter: #{t}, cost: #{cost(w, x, y)}\" if t % 10 == 0\n",
    "    return w if check(w, w_tmp, x, y) < 0.002\n",
    "  end\n",
    "  \n",
    "  return w\n",
    "end"
   ]
  },
  {
   "cell_type": "code",
   "execution_count": 35,
   "metadata": {
    "collapsed": false
   },
   "outputs": [
    {
     "name": "stdout",
     "output_type": "stream",
     "text": [
      "iter: 0, cost: 1.0211106249407453\n",
      "iter: 10, cost: 0.07536933179802474\n",
      "iter: 20, cost: 0.036907298841577584\n"
     ]
    },
    {
     "data": {
      "text/plain": [
       "Numo::DFloat#shape=[4178,1]\n",
       "[[-0.104363], \n",
       " [0.35492], \n",
       " [0.391686], \n",
       " [-0.25195], \n",
       " [-0.0212675], \n",
       " [0.223804], \n",
       " [-0.0910015], \n",
       " [-0.0326872], \n",
       " [-0.446454], \n",
       " [-0.0230979], \n",
       " [-0.361428], \n",
       " [-0.0235054], \n",
       " [-0.0593691], \n",
       " [0.502511], \n",
       " [-0.238302], \n",
       " [0.656555], \n",
       " [0.301243], \n",
       " [-0.128706], \n",
       " [-0.0670804], \n",
       " [-0.177122], \n",
       " ..."
      ]
     },
     "execution_count": 35,
     "metadata": {},
     "output_type": "execute_result"
    }
   ],
   "source": [
    "w = train(x, y)"
   ]
  },
  {
   "cell_type": "code",
   "execution_count": 36,
   "metadata": {
    "collapsed": false
   },
   "outputs": [
    {
     "data": {
      "text/plain": [
       "10660"
      ]
     },
     "execution_count": 36,
     "metadata": {},
     "output_type": "execute_result"
    }
   ],
   "source": [
    "yp = h(w, x) > 0.5\n",
    "\n",
    "c = 0\n",
    "\n",
    "y.size.times do |t|\n",
    "  c += 1 if y[t].to_i == yp[t].to_i\n",
    "end"
   ]
  },
  {
   "cell_type": "code",
   "execution_count": 37,
   "metadata": {
    "collapsed": false
   },
   "outputs": [
    {
     "data": {
      "text/plain": [
       "5330"
      ]
     },
     "execution_count": 37,
     "metadata": {},
     "output_type": "execute_result"
    }
   ],
   "source": [
    "c"
   ]
  }
 ],
 "metadata": {
  "kernelspec": {
   "display_name": "Ruby 2.3.0",
   "language": "ruby",
   "name": "ruby"
  },
  "language_info": {
   "file_extension": ".rb",
   "mimetype": "application/x-ruby",
   "name": "ruby",
   "version": "2.3.0"
  }
 },
 "nbformat": 4,
 "nbformat_minor": 0
}
