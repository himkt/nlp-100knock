{
 "cells": [
  {
   "cell_type": "code",
   "execution_count": 1,
   "metadata": {
    "collapsed": false
   },
   "outputs": [
    {
     "data": {
      "text/plain": [
       "true"
      ]
     },
     "execution_count": 1,
     "metadata": {},
     "output_type": "execute_result"
    }
   ],
   "source": [
    "require 'numo/narray'"
   ]
  },
  {
   "cell_type": "markdown",
   "metadata": {},
   "source": [
    "# 70. データの入手・整形\n",
    "文に関する極性分析の正解データを用い，以下の要領で正解データ（sentiment.txt）を作成せよ．\n",
    "\n",
    "rt-polarity.posの各行の先頭に\"+1 \"という文字列を追加する（極性ラベル\"+1\"とスペースに続けて肯定的な文の内容が続く）\n",
    "rt-polarity.negの各行の先頭に\"-1 \"という文字列を追加する（極性ラベル\"-1\"とスペースに続けて否定的な文の内容が続く）\n",
    "上述1と2の内容を結合（concatenate）し，行をランダムに並び替える\n",
    "sentiment.txtを作成したら，正例（肯定的な文）の数と負例（否定的な文）の数を確認せよ．"
   ]
  },
  {
   "cell_type": "code",
   "execution_count": 2,
   "metadata": {
    "collapsed": false
   },
   "outputs": [
    {
     "data": {
      "text/plain": [
       "{\"+1\"=>5330, \"-1\"=>5330}"
      ]
     },
     "execution_count": 2,
     "metadata": {},
     "output_type": "execute_result"
    }
   ],
   "source": [
    "pos = File.open(\"../data/rt-polaritydata/rt-polarity.pos\").read\n",
    "neg = File.open(\"../data/rt-polaritydata/rt-polarity.pos\").read\n",
    "\n",
    "pos_tagged = pos.split(\"\\n\").map {|line| \"+1 #{line}\"}\n",
    "neg_tagged = neg.split(\"\\n\").map {|line| \"-1 #{line}\"}\n",
    "sen = (pos_tagged + neg_tagged).shuffle\n",
    "counter = {\"+1\" => 0, \"-1\" => 0}\n",
    "\n",
    "out = File.open(\"../data/sentiment.txt\", \"w\")\n",
    "sen.each do |line|\n",
    "  out.puts line\n",
    "end\n",
    "out.close\n",
    "\n",
    "open('../data/sentiment.txt').each_line do |line|\n",
    "  counter[line[0..1]] += 1\n",
    "end\n",
    "\n",
    "counter"
   ]
  },
  {
   "cell_type": "markdown",
   "metadata": {},
   "source": [
    "# 71. ストップワード\n",
    "英語のストップワードのリスト（ストップリスト）を適当に作成せよ．さらに，引数に与えられた単語（文字列）がストップリストに含まれている場合は真，それ以外は偽を返す関数を実装せよ．さらに，その関数に対するテストを記述せよ．"
   ]
  },
  {
   "cell_type": "code",
   "execution_count": 38,
   "metadata": {
    "collapsed": false
   },
   "outputs": [
    {
     "name": "stdout",
     "output_type": "stream",
     "text": [
      "false\n",
      "true\n",
      "false\n"
     ]
    }
   ],
   "source": [
    "word_freq = Hash.new { |h, k| h[k] = 0 }\n",
    "\n",
    "open('../data/sentiment.txt').each_line do |line|\n",
    "  line[2..-1].chomp.split.each do |word|\n",
    "    word_freq[word] += 1\n",
    "  end\n",
    "end\n",
    "\n",
    "# 出現頻度が高い単語上位100語をストップワードにした\n",
    "# stop_list = word_freq.sort {|(_, v1), (_, v2)| v2 <=> v1}[0..100].map {|arr| arr[0]}\n",
    "# stop_list += word_freq.select {|k, v| v < 5}.map {|arr| arr[0]}\n",
    "\n",
    "stop_list = ['i', 'me', 'my', 'myself', 'we', 'our', 'ours', 'ourselves', 'you', 'your', 'yours', 'yourself', 'yourselves', 'he', 'him', 'his', 'himself', 'she', 'her', 'hers', 'herself', 'it', 'its', 'itself', 'they', 'them', 'their', 'theirs', 'themselves', 'what', 'which', 'who', 'whom', 'this', 'that', 'these', 'those', 'am', 'is', 'are', 'was', 'were', 'be', 'been', 'being', 'have', 'has', 'had', 'having', 'do', 'does', 'did', 'doing', 'a', 'an', 'the', 'and', 'but', 'if', 'or', 'because', 'as', 'until', 'while', 'of', 'at', 'by', 'for', 'with', 'about', 'against', 'between', 'into', 'through', 'during', 'before', 'after', 'above', 'below', 'to', 'from', 'up', 'down', 'in', 'out', 'on', 'off', 'over', 'under', 'again', 'further', 'then', 'once', 'here', 'there', 'when', 'where', 'why', 'how', 'all', 'any', 'both', 'each', 'few', 'more', 'most', 'other', 'some', 'such', 'no', 'nor', 'not', 'only', 'own', 'same', 'so', 'than', 'too', 'very', 's', 't', 'can', 'will', 'just', 'don', 'should', 'now', 'd', 'll', 'm', 'o', 're', 've', 'y', 'ain', 'aren', 'couldn', 'didn', 'doesn', 'hadn', 'hasn', 'haven', 'isn', 'ma', 'mightn', 'mustn', 'needn', 'shan', 'shouldn', 'wasn', 'weren', 'won', 'wouldn']\n",
    "\n",
    "def is_stopped?(word, stop_list)\n",
    "  stop_list.include? word\n",
    "end\n",
    "\n",
    "# goodとかがストップワードになっちゃった...\n",
    "puts is_stopped?(\"lion\", stop_list)\n",
    "puts is_stopped?(\"does\", stop_list)\n",
    "puts is_stopped?(\"good\", stop_list)"
   ]
  },
  {
   "cell_type": "markdown",
   "metadata": {},
   "source": [
    "# 72. 素性抽出\n",
    "極性分析に有用そうな素性を各自で設計し，学習データから素性を抽出せよ．素性としては，レビューからストップワードを除去し，各単語をステミング処理したものが最低限のベースラインとなるであろう．\n",
    "\n"
   ]
  },
  {
   "cell_type": "code",
   "execution_count": 39,
   "metadata": {
    "collapsed": false
   },
   "outputs": [
    {
     "data": {
      "text/plain": [
       "1"
      ]
     },
     "execution_count": 39,
     "metadata": {},
     "output_type": "execute_result"
    }
   ],
   "source": [
    "all_words = []\n",
    "tf_vecs = []\n",
    "labels = []\n",
    "\n",
    "File.foreach('../data/sentiment.txt').with_index do |line, index|  \n",
    "  tf_vec = Hash.new { |h, k| h[k] = 0 }  \n",
    "  words = line[3..-1].chomp.split.reject {|word| is_stopped?(word, stop_list) }\n",
    "  all_words += words\n",
    "  \n",
    "  words.each do |word|\n",
    "    tf_vec[word] += 1\n",
    "  end\n",
    "  \n",
    "  labels << line[0..1]\n",
    "  tf_vecs << tf_vec  \n",
    "end\n",
    "\n",
    "all_words.uniq!\n",
    "word_index = {}\n",
    "\n",
    "all_words.each_with_index do |word, index|\n",
    "  word_index.store(word, index)\n",
    "end\n",
    "\n",
    "x = Numo::Float64.zeros(tf_vecs.size, all_words.size)\n",
    "y = Numo::Float64.zeros(tf_vecs.size, 1)\n",
    "w = Numo::Float64.new(all_words.size, 1).rand\n",
    "\n",
    "labels.each_with_index do |label, i|\n",
    "  y[i] = label == '+1' ? 1.0 : 0.0 \n",
    "end\n",
    "\n",
    "tf_vecs.each_with_index do |hash, i|\n",
    "  hash.each do |word, count|\n",
    "    x[i, word_index[word]] = count\n",
    "  end\n",
    "end\n",
    "\n",
    "1"
   ]
  },
  {
   "cell_type": "markdown",
   "metadata": {
    "collapsed": false
   },
   "source": [
    "# 73. 学習\n",
    "72で抽出した素性を用いて、\n",
    "ロジスティック回帰モデルを学習せよ．"
   ]
  },
  {
   "cell_type": "markdown",
   "metadata": {},
   "source": [
    "\\begin{align}\n",
    "J(\\theta) = - y log(h_{\\theta}(x))  - (1 - y) log(1 - h_{ \\theta }(x)) \\\\\n",
    "h_{\\theta} (x) = \\frac{1}{e^{-{\\theta}^T x}} \\\\\n",
    "\\frac{\\partial J(\\theta)}{\\partial x} = x^{T} (h_{\\theta}(x) - y)\n",
    "\\end{align}"
   ]
  },
  {
   "cell_type": "code",
   "execution_count": 48,
   "metadata": {
    "collapsed": false
   },
   "outputs": [
    {
     "data": {
      "text/plain": [
       ":train"
      ]
     },
     "execution_count": 48,
     "metadata": {},
     "output_type": "execute_result"
    }
   ],
   "source": [
    "def cost(w, x, y)\n",
    "  (y * Numo::NMath.log(h(w, x)) - (1-y) * Numo::NMath.log(1 - h(w, x))).mean\n",
    "end\n",
    "  \n",
    "\n",
    "def h(w, x)\n",
    "  z = x.dot(w)\n",
    "  1/ (1 + Numo::NMath.exp(-z))\n",
    "end\n",
    "\n",
    "\n",
    "def grad(w, x, y)\n",
    "  x.transpose.dup.dot(h(w, x) - y)\n",
    "end\n",
    "\n",
    "\n",
    "def check(w, w_tmp, x, y)\n",
    "  (cost(w, x, y) - cost(w_tmp, x, y)).abs\n",
    "end\n",
    "\n",
    "def train(x, y)\n",
    "  w = Numo::Float64.new(x.shape[1], 1).rand\n",
    "  \n",
    "  100.times do |t|\n",
    "    w_tmp = w\n",
    "    \n",
    "    # 学習率\n",
    "    eta = 0.01\n",
    "    w = w - grad(w, x, y) * eta\n",
    "    \n",
    "    puts \"iter: #{t}, cost: #{cost(w, x, y)}\" if t % 10 == 0\n",
    "    return w if check(w, w_tmp, x, y) < 0.002\n",
    "  end\n",
    "  \n",
    "  return w\n",
    "end"
   ]
  },
  {
   "cell_type": "code",
   "execution_count": 49,
   "metadata": {
    "collapsed": false
   },
   "outputs": [
    {
     "name": "stdout",
     "output_type": "stream",
     "text": [
      "iter: 0, cost: -69.29028733801884\n",
      "iter: 10, cost: -69.01661184956886\n",
      "iter: 20, cost: -68.82592068428316\n",
      "iter: 30, cost: -68.67222940337987\n",
      "iter: 40, cost: -68.53963828877866\n",
      "iter: 50, cost: -68.42191546981934\n",
      "iter: 60, cost: -68.31596560273341\n",
      "iter: 70, cost: -68.21980126445415\n",
      "iter: 80, cost: -68.13193848104574\n",
      "iter: 90, cost: -68.05119462205118\n"
     ]
    },
    {
     "data": {
      "text/plain": [
       "Numo::DFloat#shape=[13940,1]\n",
       "[[0.560018], \n",
       " [0.970116], \n",
       " [0.303077], \n",
       " [0.0414508], \n",
       " [1.59266], \n",
       " [0.587769], \n",
       " [0.955631], \n",
       " [5.09366], \n",
       " [0.830754], \n",
       " [-0.0175582], \n",
       " [0.481281], \n",
       " [0.25461], \n",
       " [0.299003], \n",
       " [0.778137], \n",
       " [0.582923], \n",
       " [-0.0726737], \n",
       " [0.492738], \n",
       " [0.0633805], \n",
       " [0.872327], \n",
       " [0.579262], \n",
       " ..."
      ]
     },
     "execution_count": 49,
     "metadata": {},
     "output_type": "execute_result"
    }
   ],
   "source": [
    "w = train(x, y)"
   ]
  },
  {
   "cell_type": "code",
   "execution_count": 50,
   "metadata": {
    "collapsed": false
   },
   "outputs": [
    {
     "data": {
      "text/plain": [
       "10660"
      ]
     },
     "execution_count": 50,
     "metadata": {},
     "output_type": "execute_result"
    }
   ],
   "source": [
    "yp = h(w, x) > 0.5\n",
    "\n",
    "c = 0\n",
    "\n",
    "y.size.times do |t|\n",
    "  c += 1 if y[t].to_i == yp[t].to_i\n",
    "end"
   ]
  },
  {
   "cell_type": "code",
   "execution_count": 51,
   "metadata": {
    "collapsed": false
   },
   "outputs": [
    {
     "data": {
      "text/plain": [
       "5330"
      ]
     },
     "execution_count": 51,
     "metadata": {},
     "output_type": "execute_result"
    }
   ],
   "source": [
    "c"
   ]
  }
 ],
 "metadata": {
  "kernelspec": {
   "display_name": "Ruby 2.3.0",
   "language": "ruby",
   "name": "ruby"
  },
  "language_info": {
   "file_extension": ".rb",
   "mimetype": "application/x-ruby",
   "name": "ruby",
   "version": "2.3.0"
  }
 },
 "nbformat": 4,
 "nbformat_minor": 0
}
