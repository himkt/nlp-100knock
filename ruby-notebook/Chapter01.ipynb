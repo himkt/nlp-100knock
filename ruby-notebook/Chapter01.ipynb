{
 "cells": [
  {
   "cell_type": "markdown",
   "metadata": {},
   "source": [
    "# 第1章: 準備運動\n",
    "\n",
    "テキストや文字列を扱う題材に取り組みながら，プログラミング言語のやや高度なトピックを復習します．\n",
    "\n",
    "```\n",
    "文字列, ユニコード, リスト型, 辞書型, 集合型, イテレータ, スライス, 乱数\n",
    "```"
   ]
  },
  {
   "cell_type": "markdown",
   "metadata": {},
   "source": [
    "## 00. 文字列の逆順\n",
    "\n",
    "文字列\"stressed\"の文字を逆に（末尾から先頭に向かって）並べた文字列を得よ."
   ]
  },
  {
   "cell_type": "code",
   "execution_count": 2,
   "metadata": {
    "collapsed": false
   },
   "outputs": [
    {
     "name": "stdout",
     "output_type": "stream",
     "text": [
      "desserts\n"
     ]
    }
   ],
   "source": [
    "str = \"stressed\"\n",
    "puts str.reverse"
   ]
  },
  {
   "cell_type": "markdown",
   "metadata": {},
   "source": [
    "## 01. 「パタトクカシーー」\n",
    "\n",
    "「パタトクカシーー」という文字列の1,3,5,7文字目を取り出して連結した文字列を得よ．"
   ]
  },
  {
   "cell_type": "code",
   "execution_count": 3,
   "metadata": {
    "collapsed": false
   },
   "outputs": [
    {
     "name": "stdout",
     "output_type": "stream",
     "text": [
      "パトカー\n"
     ]
    }
   ],
   "source": [
    "str = \"パタトクカシーー\"\n",
    "puts  \"#{str[0]}#{str[2]}#{str[4]}#{str[6]}\""
   ]
  },
  {
   "cell_type": "markdown",
   "metadata": {},
   "source": [
    "## 02. 「パトカー」＋「タクシー」＝「パタトクカシーー」\n",
    "\n",
    "「パトカー」＋「タクシー」の文字を先頭から交互に連結して文字列「パタトクカシーー」を得よ．"
   ]
  },
  {
   "cell_type": "code",
   "execution_count": 6,
   "metadata": {
    "collapsed": false
   },
   "outputs": [
    {
     "name": "stdout",
     "output_type": "stream",
     "text": [
      "パタトクカシーー"
     ]
    },
    {
     "data": {
      "text/plain": [
       "4"
      ]
     },
     "execution_count": 6,
     "metadata": {},
     "output_type": "execute_result"
    }
   ],
   "source": [
    "str1 = 'パトカー'\n",
    "str2 = 'タクシー'\n",
    "\n",
    "str1.size.times do |t|\n",
    "  print(str1[t], str2[t])\n",
    "end"
   ]
  },
  {
   "cell_type": "markdown",
   "metadata": {
    "collapsed": true
   },
   "source": [
    "## 03. 円周率\n",
    "\n",
    "\"Now I need a drink, alcoholic of course, after the heavy lectures involving quantum mechanics.\"という文を単語に分解し，各単語の（アルファベットの）文字数を先頭から出現順に並べたリストを作成せよ"
   ]
  },
  {
   "cell_type": "code",
   "execution_count": 17,
   "metadata": {
    "collapsed": false
   },
   "outputs": [
    {
     "data": {
      "text/plain": [
       "[[\"Now\", 3], [\"I\", 1], [\"need\", 4], [\"a\", 1], [\"drink,\", 6], [\"alcoholic\", 9], [\"of\", 2], [\"course,\", 7], [\"after\", 5], [\"the\", 3], [\"heavy\", 5], [\"lectures\", 8], [\"involving\", 9], [\"quantum\", 7], [\"mechanics.\", 10]]"
      ]
     },
     "execution_count": 17,
     "metadata": {},
     "output_type": "execute_result"
    }
   ],
   "source": [
    "str = \"Now I need a drink, alcoholic of course, after the heavy lectures involving quantum mechanics.\"\n",
    "\n",
    "str.split.map do |word|\n",
    "  [word, word.size]\n",
    "end"
   ]
  },
  {
   "cell_type": "markdown",
   "metadata": {},
   "source": [
    "## 04. 元素記号\n",
    "\n",
    "\"Hi He Lied Because Boron Could Not Oxidize Fluorine. New Nations Might Also Sign Peace Security Clause. Arthur King Can.\"という文を単語に分解し，1, 5, 6, 7, 8, 9, 15, 16, 19番目の単語は先頭の1文字，それ以外の単語は先頭に2文字を取り出し，取り出した文字列から単語の位置（先頭から何番目の単語か）への連想配列（辞書型もしくはマップ型）を作成せよ．"
   ]
  },
  {
   "cell_type": "code",
   "execution_count": 22,
   "metadata": {
    "collapsed": false
   },
   "outputs": [
    {
     "data": {
      "text/plain": [
       "[\"H\", \"He\", \"Li\", \"Be\", \"B\", \"C\", \"N\", \"O\", \"F\", \"Ne\", \"Na\", \"Mi\", \"Al\", \"Si\", \"P\", \"S\", \"Cl\", \"Ar\", \"K\", \"Ca\"]"
      ]
     },
     "execution_count": 22,
     "metadata": {},
     "output_type": "execute_result"
    }
   ],
   "source": [
    "str = \"Hi He Lied Because Boron Could Not Oxidize Fluorine. New Nations Might Also Sign Peace Security Clause. Arthur King Can.\"\n",
    "list = {}\n",
    "\n",
    "str.split(\" \").each_with_index do |word, i|\n",
    "  if ([1,5,6,7,8,9,15,16,19].include?(i+1))\n",
    "    list[word] = word[0].upcase\n",
    "  else\n",
    "    list[word] = word[0..1]\n",
    "  end\n",
    "end\n",
    "\n",
    " list.values"
   ]
  },
  {
   "cell_type": "markdown",
   "metadata": {},
   "source": [
    "## 05. n-gram\n",
    "\n",
    "与えられたシーケンス（文字列やリストなど）からn-gramを作る関数を作成せよ．この関数を用い，\"I am an NLPer\"という文から単語bi-gram，文字bi-gramを得よ．"
   ]
  },
  {
   "cell_type": "code",
   "execution_count": 28,
   "metadata": {
    "collapsed": false
   },
   "outputs": [
    {
     "data": {
      "text/plain": [
       "[[\"I, am\", \"am, an\", \"an, NLPer\"], [\"I, a\", \"a, m\", \"m, a\", \"a, n\", \"n, N\", \"N, L\", \"L, P\", \"P, e\", \"e, r\"]]"
      ]
     },
     "execution_count": 28,
     "metadata": {},
     "output_type": "execute_result"
    }
   ],
   "source": [
    "module Nlp05\n",
    "  module_function\n",
    "\n",
    "  def word(str)\n",
    "    arr = str.split(\" \")\n",
    "    bigram(arr)\n",
    "  end\n",
    "\n",
    "  def char(str)\n",
    "    arr = str.gsub(' ','').split(//)\n",
    "    bigram(arr)\n",
    "  end\n",
    "\n",
    "  def bigram(arr)\n",
    "    i = 0\n",
    "    data = []\n",
    "    arr.size.times do\n",
    "      data.push(\"#{arr[i]}, #{arr[i+1]}\") if arr[i+1]\n",
    "      i += 1\n",
    "    end\n",
    "    return data\n",
    "  end\n",
    "end\n",
    "\n",
    "str = \"I am an NLPer\"\n",
    "[Nlp05.word(str), Nlp05.char(str)]"
   ]
  },
  {
   "cell_type": "markdown",
   "metadata": {},
   "source": [
    "## 06. 集合\n",
    "\n",
    "\"paraparaparadise\"と\"paragraph\"に含まれる文字bi-gramの集合を，それぞれ, XとYとして求め，XとYの和集合，積集合，差集合を求めよ．さらに，'se'というbi-gramがXおよびYに含まれるかどうかを調べよ．"
   ]
  },
  {
   "cell_type": "code",
   "execution_count": 43,
   "metadata": {
    "collapsed": false
   },
   "outputs": [
    {
     "name": "stdout",
     "output_type": "stream",
     "text": [
      "union\n",
      "[\"p, a\", \"a, r\", \"r, a\", \"a, p\", \"a, d\", \"d, i\", \"i, s\", \"s, e\", \"a, g\", \"g, r\", \"p, h\"]\n",
      "product\n",
      "[[\"p, a\", \"p, a\"], [\"p, a\", \"a, r\"], [\"p, a\", \"r, a\"], [\"p, a\", \"a, p\"], [\"p, a\", \"p, a\"], [\"p, a\", \"a, r\"], [\"p, a\", \"r, a\"], [\"p, a\", \"a, p\"], [\"p, a\", \"p, a\"], [\"p, a\", \"a, r\"], [\"p, a\", \"r, a\"], [\"p, a\", \"a, d\"], [\"p, a\", \"d, i\"], [\"p, a\", \"i, s\"], [\"p, a\", \"s, e\"], [\"a, r\", \"p, a\"], [\"a, r\", \"a, r\"], [\"a, r\", \"r, a\"], [\"a, r\", \"a, p\"], [\"a, r\", \"p, a\"], [\"a, r\", \"a, r\"], [\"a, r\", \"r, a\"], [\"a, r\", \"a, p\"], [\"a, r\", \"p, a\"], [\"a, r\", \"a, r\"], [\"a, r\", \"r, a\"], [\"a, r\", \"a, d\"], [\"a, r\", \"d, i\"], [\"a, r\", \"i, s\"], [\"a, r\", \"s, e\"], [\"r, a\", \"p, a\"], [\"r, a\", \"a, r\"], [\"r, a\", \"r, a\"], [\"r, a\", \"a, p\"], [\"r, a\", \"p, a\"], [\"r, a\", \"a, r\"], [\"r, a\", \"r, a\"], [\"r, a\", \"a, p\"], [\"r, a\", \"p, a\"], [\"r, a\", \"a, r\"], [\"r, a\", \"r, a\"], [\"r, a\", \"a, d\"], [\"r, a\", \"d, i\"], [\"r, a\", \"i, s\"], [\"r, a\", \"s, e\"], [\"a, g\", \"p, a\"], [\"a, g\", \"a, r\"], [\"a, g\", \"r, a\"], [\"a, g\", \"a, p\"], [\"a, g\", \"p, a\"], [\"a, g\", \"a, r\"], [\"a, g\", \"r, a\"], [\"a, g\", \"a, p\"], [\"a, g\", \"p, a\"], [\"a, g\", \"a, r\"], [\"a, g\", \"r, a\"], [\"a, g\", \"a, d\"], [\"a, g\", \"d, i\"], [\"a, g\", \"i, s\"], [\"a, g\", \"s, e\"], [\"g, r\", \"p, a\"], [\"g, r\", \"a, r\"], [\"g, r\", \"r, a\"], [\"g, r\", \"a, p\"], [\"g, r\", \"p, a\"], [\"g, r\", \"a, r\"], [\"g, r\", \"r, a\"], [\"g, r\", \"a, p\"], [\"g, r\", \"p, a\"], [\"g, r\", \"a, r\"], [\"g, r\", \"r, a\"], [\"g, r\", \"a, d\"], [\"g, r\", \"d, i\"], [\"g, r\", \"i, s\"], [\"g, r\", \"s, e\"], [\"r, a\", \"p, a\"], [\"r, a\", \"a, r\"], [\"r, a\", \"r, a\"], [\"r, a\", \"a, p\"], [\"r, a\", \"p, a\"], [\"r, a\", \"a, r\"], [\"r, a\", \"r, a\"], [\"r, a\", \"a, p\"], [\"r, a\", \"p, a\"], [\"r, a\", \"a, r\"], [\"r, a\", \"r, a\"], [\"r, a\", \"a, d\"], [\"r, a\", \"d, i\"], [\"r, a\", \"i, s\"], [\"r, a\", \"s, e\"], [\"a, p\", \"p, a\"], [\"a, p\", \"a, r\"], [\"a, p\", \"r, a\"], [\"a, p\", \"a, p\"], [\"a, p\", \"p, a\"], [\"a, p\", \"a, r\"], [\"a, p\", \"r, a\"], [\"a, p\", \"a, p\"], [\"a, p\", \"p, a\"], [\"a, p\", \"a, r\"], [\"a, p\", \"r, a\"], [\"a, p\", \"a, d\"], [\"a, p\", \"d, i\"], [\"a, p\", \"i, s\"], [\"a, p\", \"s, e\"], [\"p, h\", \"p, a\"], [\"p, h\", \"a, r\"], [\"p, h\", \"r, a\"], [\"p, h\", \"a, p\"], [\"p, h\", \"p, a\"], [\"p, h\", \"a, r\"], [\"p, h\", \"r, a\"], [\"p, h\", \"a, p\"], [\"p, h\", \"p, a\"], [\"p, h\", \"a, r\"], [\"p, h\", \"r, a\"], [\"p, h\", \"a, d\"], [\"p, h\", \"d, i\"], [\"p, h\", \"i, s\"], [\"p, h\", \"s, e\"]]\n",
      "[\"a, g\", \"g, r\", \"p, h\"]\n"
     ]
    }
   ],
   "source": [
    "str1 = \"paraparaparadise\"\n",
    "str2 = \"paragraph\"\n",
    "\n",
    "arr1 = Nlp05.char(str1)\n",
    "arr2 = Nlp05.char(str2)\n",
    "\n",
    "puts \"union\"\n",
    "puts (arr1 + arr2).uniq\n",
    "\n",
    "puts \"product\"\n",
    "puts  arr2.product(arr1)\n",
    "\n",
    "puts (arr2 - arr1)"
   ]
  },
  {
   "cell_type": "markdown",
   "metadata": {},
   "source": [
    "## 07. テンプレートによる文生成\n",
    "\n",
    "引数x, y, zを受け取り「x時のyはz」という文字列を返す関数を実装せよ．さらに，x=12, y=\"気温\", z=22.4として，実行結果を確認せよ．"
   ]
  },
  {
   "cell_type": "code",
   "execution_count": 45,
   "metadata": {
    "collapsed": false
   },
   "outputs": [
    {
     "data": {
      "text/plain": [
       "\"12時の気温は22.4\""
      ]
     },
     "execution_count": 45,
     "metadata": {},
     "output_type": "execute_result"
    }
   ],
   "source": [
    "def template(x, y, z)\n",
    "  return \"#{x}時の#{y}は#{z}\"\n",
    "end\n",
    "\n",
    "template(12, \"気温\", 22.4)"
   ]
  },
  {
   "cell_type": "markdown",
   "metadata": {},
   "source": [
    "## 08. 暗号文\n",
    "\n",
    "与えられた文字列の各文字を，以下の仕様で変換する関数cipherを実装せよ．\n",
    "\n",
    "英小文字ならば(219 - 文字コード)の文字に置換\n",
    "その他の文字はそのまま出力\n",
    "この関数を用い，英語のメッセージを暗号化・復号化せよ．"
   ]
  },
  {
   "cell_type": "code",
   "execution_count": 55,
   "metadata": {
    "collapsed": false
   },
   "outputs": [
    {
     "data": {
      "text/plain": [
       "\"I xlfowm'g yvorvev gszg I xlfow zxgfzoob fmwvihgzmw dszg I dzh ivzwrmt : gsv ksvmlnvmzo kldvi lu gsv sfnzm nrmw .\""
      ]
     },
     "execution_count": 55,
     "metadata": {},
     "output_type": "execute_result"
    }
   ],
   "source": [
    "def chipher(str)\n",
    "  encoded = str.split(//).map do |char|\n",
    "    if char.ord >= 97 && char.ord <= 122\n",
    "      (219 - char.ord).chr('UTF-8')\n",
    "    else\n",
    "      char\n",
    "    end\n",
    "  end\n",
    "  \n",
    "  encoded.join\n",
    "end\n",
    "\n",
    "str = \"I couldn't believe that I could actually understand what I was reading : the phenomenal power of the human mind .\"\n",
    "chipher(str)"
   ]
  },
  {
   "cell_type": "markdown",
   "metadata": {},
   "source": [
    "## 09. Typoglycemia\n",
    "\n",
    "スペースで区切られた単語列に対して，各単語の先頭と末尾の文字は残し，それ以外の文字の順序をランダムに並び替えるプログラムを作成せよ．ただし，長さが４以下の単語は並び替えないこととする．適当な英語の文（例えば\"I couldn't believe that I could actually understand what I was reading : the phenomenal power of the human mind .\"）を与え，その実行結果を確認せよ．"
   ]
  },
  {
   "cell_type": "code",
   "execution_count": 56,
   "metadata": {
    "collapsed": false
   },
   "outputs": [
    {
     "name": "stdout",
     "output_type": "stream",
     "text": [
      "I c'lnduot bvlieee that I cloud actlluay uenndasrtd what I was rideang : the penmnheaol pwoer of the hamun mind . \n"
     ]
    }
   ],
   "source": [
    "str1 = \"I couldn't believe that I could actually understand what I was reading : the phenomenal power of the human mind .\"\n",
    "str2 = \"\"\n",
    "\n",
    "str1.split(\" \").each do |word|\n",
    "  arr = word.split(//)\n",
    "  if arr.size > 4\n",
    "    h = arr.shift\n",
    "    f = arr.pop\n",
    "    c = arr.shuffle\n",
    "    c.unshift(h)\n",
    "    c.push(f)\n",
    "    str2 += \"#{c.join} \"\n",
    "  else\n",
    "    str2 += \"#{arr.join} \"\n",
    "  end\n",
    "end\n",
    "\n",
    "puts str2"
   ]
  }
 ],
 "metadata": {
  "kernelspec": {
   "display_name": "Ruby 2.3.0",
   "language": "ruby",
   "name": "ruby"
  },
  "language_info": {
   "file_extension": ".rb",
   "mimetype": "application/x-ruby",
   "name": "ruby",
   "version": "2.3.0"
  }
 },
 "nbformat": 4,
 "nbformat_minor": 0
}
