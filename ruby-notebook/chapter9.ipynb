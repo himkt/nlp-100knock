{
 "cells": [
  {
   "cell_type": "code",
   "execution_count": 22,
   "metadata": {
    "collapsed": false
   },
   "outputs": [
    {
     "data": {
      "text/plain": [
       "false"
      ]
     },
     "execution_count": 22,
     "metadata": {},
     "output_type": "execute_result"
    }
   ],
   "source": [
    "require 'countries'"
   ]
  },
  {
   "cell_type": "markdown",
   "metadata": {},
   "source": [
    "# 80. コーパスの整形\n",
    "\n",
    "文を単語列に変換する最も単純な方法は，空白文字で単語に区切ることである． ただ，この方法では文末のピリオドや括弧などの記号が単語に含まれてしまう． そこで，コーパスの各行のテキストを空白文字でトークンのリストに分割した後，各トークンに以下の処理を施し，単語から記号を除去せよ．\n",
    "\n",
    "トークンの先頭と末尾に出現する次の文字を削除: .,!?;:()[]'\"\n",
    "空文字列となったトークンは削除\n",
    "以上の処理を適用した後，トークンをスペースで連結してファイルに保存せよ．"
   ]
  },
  {
   "cell_type": "code",
   "execution_count": 23,
   "metadata": {
    "collapsed": false
   },
   "outputs": [
    {
     "name": "stdout",
     "output_type": "stream",
     "text": [
      "0\n"
     ]
    },
    {
     "data": {
      "text/plain": [
       "1"
      ]
     },
     "execution_count": 23,
     "metadata": {},
     "output_type": "execute_result"
    }
   ],
   "source": [
    "doc = []\n",
    "pat = \"[#{[\"\\\\\", \"\\\\.\", \"\\\\,\", \"\\\\!\", \"\\\\?\", \"\\\\;\", \"\\\\:\", \"\\\\(\", \"\\\\)\", \"\\\\[\", \"\\\\]\", \"\\\\'\", \"\\\"\"].join()}]\"\n",
    "\n",
    "File.foreach('../data/enwiki_small').with_index do |line, index|\n",
    "#File.foreach('../data/enwiki-20150112-400-r100-10576.txt').with_index do |line, index|\n",
    "  p index if index % 50000 == 0\n",
    "  sentence = line.chomp.split.map {|token|\n",
    "    token.\n",
    "      sub(/^#{pat}/, '').\n",
    "      sub(/#{pat}$/, '').\n",
    "      gsub(/#{pat}/, '') # ズル\n",
    "    }.\n",
    "    reject{|token| token.empty?}\n",
    "  \n",
    "  doc << sentence.join(\"\\s\") if sentence.size > 5\n",
    "end\n",
    "\n",
    "1"
   ]
  },
  {
   "cell_type": "markdown",
   "metadata": {},
   "source": [
    "# 81. 複合語からなる国名への対処\n",
    "\n",
    "英語では，複数の語の連接が意味を成すことがある．例えば，アメリカ合衆国は“United States”，イギリスは“United Kingdom”と表現されるが，“United”や“States”，“Kingdom”という単語だけでは，指し示している概念・実体が曖昧である．そこで，コーパス中に含まれる複合語を認識し，複合語を1語として扱うことで，複合語の意味を推定したい．しかしながら，複合語を正確に認定するのは大変むずかしいので，ここでは複合語からなる国名を認定したい．\n",
    "インターネット上から国名リストを各自で入手し，80のコーパス中に出現する複合語の国名に関して，スペースをアンダーバーに置換せよ．例えば，“United States”は“United_States”，“Isle of Man”は“Isle_of_Man”になるはずである．"
   ]
  },
  {
   "cell_type": "code",
   "execution_count": 24,
   "metadata": {
    "collapsed": false
   },
   "outputs": [
    {
     "name": "stdout",
     "output_type": "stream",
     "text": [
      "0\n"
     ]
    },
    {
     "data": {
      "text/plain": [
       "1"
      ]
     },
     "execution_count": 24,
     "metadata": {},
     "output_type": "execute_result"
    }
   ],
   "source": [
    "original = ISO3166::Country.all.map{|country| country.name.sub(/\\s\\(.*?\\)\\s/, '')}.select{|name| name.match(/\\s/)}\n",
    "under_scored = original.map{|name| name.gsub(/\\s/, '_')}\n",
    "\n",
    "doc.each_with_index do |sentence, index|\n",
    "  p index if index % 50000 == 0\n",
    "  original.size.times do |i|\n",
    "    sentence.gsub!(original[i-1], under_scored[i-1])\n",
    "  end\n",
    "end\n",
    "\n",
    "1"
   ]
  },
  {
   "cell_type": "markdown",
   "metadata": {},
   "source": [
    "# 82. 文脈の抽出\n",
    "\n",
    "81で作成したコーパス中に出現するすべての単語tに関して，単語tと文脈語cのペアをタブ区切り形式ですべて書き出せ．ただし，文脈語の定義は次の通りとする．\n",
    "- ある単語tの前後d単語を文脈語cとして抽出する（ただし，文脈語に単語tそのものは含まない）\n",
    "- 単語tを選ぶ度に，文脈幅dは{1,2,3,4,5}の範囲でランダムに決める．"
   ]
  },
  {
   "cell_type": "code",
   "execution_count": 25,
   "metadata": {
    "collapsed": false
   },
   "outputs": [
    {
     "data": {
      "text/plain": [
       "1"
      ]
     },
     "execution_count": 25,
     "metadata": {},
     "output_type": "execute_result"
    }
   ],
   "source": [
    "def window\n",
    "  (Random.rand * 4.9999).to_i + 1\n",
    "end\n",
    "\n",
    "output = open(\"../data/context.tsv\", \"w\")\n",
    "\n",
    "doc.each_with_index do |words, index|\n",
    " p index if index % 50000 == 0\n",
    "  words = words.split(/\\s|\\n/)\n",
    "  \n",
    "  words.size.times.each do |i|\n",
    "    w = window\n",
    "\n",
    "    start_from = [0, i - w].max\n",
    "    end_to = [words.size-1, i + w].min\n",
    "\n",
    "    contexts = words[start_from...i] + words[(i+1)..end_to]\n",
    "    contexts.each do |context|\n",
    "      output.puts \"#{words[i]}\\t#{context}\"\n",
    "    end\n",
    "  end\n",
    "  break\n",
    "end\n",
    "\n",
    "output.close\n",
    "\n",
    "1"
   ]
  },
  {
   "cell_type": "markdown",
   "metadata": {},
   "source": [
    "# 83. 単語／文脈の頻度の計測\n",
    "\n",
    "82の出力を利用し，以下の出現分布，および定数を求めよ．\n",
    "\n",
    "f(t,c)f(t,c): 単語ttと文脈語ccの共起回数\n",
    "f(t,∗)f(t,∗): 単語ttの出現回数\n",
    "f(∗,c)f(∗,c): 文脈語ccの出現回数\n",
    "NN: 単語と文脈語のペアの総出現回数"
   ]
  },
  {
   "cell_type": "code",
   "execution_count": 26,
   "metadata": {
    "collapsed": false
   },
   "outputs": [
    {
     "name": "stdout",
     "output_type": "stream",
     "text": [
      "0\n"
     ]
    }
   ],
   "source": [
    "count_t = Hash.new{|hash, key| hash[key] = 0}\n",
    "count_c = Hash.new{|hash, key| hash[key] = 0}\n",
    "count_t_c = Hash.new{|hash, key| hash[key] = Hash.new{|hash2, key2| hash2[key2] = 0}}\n",
    "n = 0\n",
    "\n",
    "File.foreach(\"../data/context.tsv\").with_index do |line, index|\n",
    "  p index if index % 500000 == 0\n",
    "  t, c = line.split\n",
    "  count_t[t] += 1\n",
    "  count_c[c] += 1\n",
    "  count_t_c[t][c] += 1\n",
    "  n += 1\n",
    "end\n",
    "\n",
    "1"
   ]
  },
  {
   "cell_type": "code",
   "execution_count": null,
   "metadata": {
    "collapsed": true
   },
   "outputs": [],
   "source": []
  }
 ],
 "metadata": {
  "kernelspec": {
   "display_name": "Ruby 2.3.0",
   "language": "ruby",
   "name": "ruby"
  },
  "language_info": {
   "file_extension": ".rb",
   "mimetype": "application/x-ruby",
   "name": "ruby",
   "version": "2.3.0"
  }
 },
 "nbformat": 4,
 "nbformat_minor": 0
}
