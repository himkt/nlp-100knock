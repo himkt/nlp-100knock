{
 "cells": [
  {
   "cell_type": "code",
   "execution_count": 1,
   "metadata": {
    "collapsed": false
   },
   "outputs": [
    {
     "data": {
      "text/plain": [
       "true"
      ]
     },
     "execution_count": 1,
     "metadata": {},
     "output_type": "execute_result"
    }
   ],
   "source": [
    "require 'countries'\n",
    "require 'numo/narray'\n",
    "require 'numo/linalg'\n",
    "require 'nmatrix'\n",
    "require 'nmatrix/lapacke'"
   ]
  },
  {
   "cell_type": "markdown",
   "metadata": {},
   "source": [
    "# 80. コーパスの整形\n",
    "\n",
    "文を単語列に変換する最も単純な方法は，空白文字で単語に区切ることである． ただ，この方法では文末のピリオドや括弧などの記号が単語に含まれてしまう． そこで，コーパスの各行のテキストを空白文字でトークンのリストに分割した後，各トークンに以下の処理を施し，単語から記号を除去せよ．\n",
    "\n",
    "トークンの先頭と末尾に出現する次の文字を削除: .,!?;:()[]'\"\n",
    "空文字列となったトークンは削除\n",
    "以上の処理を適用した後，トークンをスペースで連結してファイルに保存せよ．"
   ]
  },
  {
   "cell_type": "code",
   "execution_count": 2,
   "metadata": {
    "collapsed": false
   },
   "outputs": [
    {
     "name": "stdout",
     "output_type": "stream",
     "text": [
      "0\n",
      "50000\n",
      "100000\n",
      "150000\n",
      "200000\n",
      "250000\n"
     ]
    },
    {
     "data": {
      "text/plain": [
       "1"
      ]
     },
     "execution_count": 2,
     "metadata": {},
     "output_type": "execute_result"
    }
   ],
   "source": [
    "doc = []\n",
    "pat = \"[#{[\"\\\\\", \"\\\\.\", \"\\\\,\", \"\\\\!\", \"\\\\?\", \"\\\\;\", \"\\\\:\", \"\\\\(\", \"\\\\)\", \"\\\\[\", \"\\\\]\", \"\\\\'\", \"\\\"\"].join()}]\"\n",
    "\n",
    "# File.foreach('../data/enwiki_small').with_index do |line, index|\n",
    "File.foreach('../data/enwiki-20150112-400-r100-10576.txt').with_index do |line, index|\n",
    "  p index if index % 50000 == 0\n",
    "  sentence = line.chomp.split.map {|token|\n",
    "    token.\n",
    "      sub(/^#{pat}/, '').\n",
    "      sub(/#{pat}$/, '').\n",
    "      gsub(/#{pat}/, '') # ズル\n",
    "    }.\n",
    "    reject{|token| token.empty?}\n",
    "  \n",
    "  doc << sentence.join(\"\\s\") if sentence.size > 5\n",
    "end\n",
    "\n",
    "1"
   ]
  },
  {
   "cell_type": "markdown",
   "metadata": {},
   "source": [
    "# 81. 複合語からなる国名への対処\n",
    "\n",
    "英語では，複数の語の連接が意味を成すことがある．例えば，アメリカ合衆国は“United States”，イギリスは“United Kingdom”と表現されるが，“United”や“States”，“Kingdom”という単語だけでは，指し示している概念・実体が曖昧である．そこで，コーパス中に含まれる複合語を認識し，複合語を1語として扱うことで，複合語の意味を推定したい．しかしながら，複合語を正確に認定するのは大変むずかしいので，ここでは複合語からなる国名を認定したい．\n",
    "インターネット上から国名リストを各自で入手し，80のコーパス中に出現する複合語の国名に関して，スペースをアンダーバーに置換せよ．例えば，“United States”は“United_States”，“Isle of Man”は“Isle_of_Man”になるはずである．"
   ]
  },
  {
   "cell_type": "code",
   "execution_count": 3,
   "metadata": {
    "collapsed": false
   },
   "outputs": [
    {
     "name": "stdout",
     "output_type": "stream",
     "text": [
      "0\n",
      "50000\n",
      "100000\n",
      "150000\n"
     ]
    },
    {
     "data": {
      "text/plain": [
       "1"
      ]
     },
     "execution_count": 3,
     "metadata": {},
     "output_type": "execute_result"
    }
   ],
   "source": [
    "original = ISO3166::Country.all.map{|country| country.name.sub(/\\s\\(.*?\\)\\s/, '')}.select{|name| name.match(/\\s/)}\n",
    "under_scored = original.map{|name| name.gsub(/\\s/, '_')}\n",
    "\n",
    "doc.each_with_index do |sentence, index|\n",
    "  p index if index % 50000 == 0\n",
    "  original.size.times do |i|\n",
    "    sentence.gsub!(original[i-1], under_scored[i-1])\n",
    "  end\n",
    "end\n",
    "\n",
    "1"
   ]
  },
  {
   "cell_type": "markdown",
   "metadata": {},
   "source": [
    "# 82. 文脈の抽出\n",
    "\n",
    "81で作成したコーパス中に出現するすべての単語tに関して，単語tと文脈語cのペアをタブ区切り形式ですべて書き出せ．ただし，文脈語の定義は次の通りとする．\n",
    "- ある単語tの前後d単語を文脈語cとして抽出する（ただし，文脈語に単語tそのものは含まない）\n",
    "- 単語tを選ぶ度に，文脈幅dは{1,2,3,4,5}の範囲でランダムに決める．"
   ]
  },
  {
   "cell_type": "code",
   "execution_count": 4,
   "metadata": {
    "collapsed": false
   },
   "outputs": [
    {
     "name": "stdout",
     "output_type": "stream",
     "text": [
      "0\n",
      "50000\n",
      "100000\n",
      "150000\n"
     ]
    },
    {
     "data": {
      "text/plain": [
       "1"
      ]
     },
     "execution_count": 4,
     "metadata": {},
     "output_type": "execute_result"
    }
   ],
   "source": [
    "def window\n",
    "  (Random.rand * 4.9999).to_i + 1\n",
    "end\n",
    "\n",
    "output = open(\"../data/context.tsv\", \"w\")\n",
    "\n",
    "doc.each_with_index do |words, index|\n",
    "  p index if index % 50000 == 0\n",
    "  words = words.split(/\\s|\\n/)\n",
    "  \n",
    "  words.size.times.each do |i|\n",
    "    w = window\n",
    "\n",
    "    start_from = [0, i - w].max\n",
    "    end_to = [words.size-1, i + w].min\n",
    "\n",
    "    contexts = words[start_from...i] + words[(i+1)..end_to]\n",
    "    contexts.each do |context|\n",
    "      output.puts \"#{words[i]}\\t#{context}\"\n",
    "    end\n",
    "  end\n",
    "end\n",
    "\n",
    "output.close\n",
    "\n",
    "1"
   ]
  },
  {
   "cell_type": "markdown",
   "metadata": {},
   "source": [
    "# 83. 単語／文脈の頻度の計測\n",
    "\n",
    "82の出力を利用し，以下の出現分布，および定数を求めよ．\n",
    "\n",
    "f(t,c)f(t,c): 単語ttと文脈語ccの共起回数\n",
    "f(t,∗)f(t,∗): 単語ttの出現回数\n",
    "f(∗,c)f(∗,c): 文脈語ccの出現回数\n",
    "NN: 単語と文脈語のペアの総出現回数"
   ]
  },
  {
   "cell_type": "code",
   "execution_count": 5,
   "metadata": {
    "collapsed": false
   },
   "outputs": [
    {
     "name": "stdout",
     "output_type": "stream",
     "text": [
      "0\n",
      "10000000\n",
      "20000000\n",
      "30000000\n",
      "40000000\n",
      "50000000\n",
      "60000000\n"
     ]
    },
    {
     "data": {
      "text/plain": [
       "1"
      ]
     },
     "execution_count": 5,
     "metadata": {},
     "output_type": "execute_result"
    }
   ],
   "source": [
    "count_t = Hash.new{|hash, key| hash[key] = 0}\n",
    "count_c = Hash.new{|hash, key| hash[key] = 0}\n",
    "count_t_c = Hash.new{|hash, key| hash[key] = Hash.new{|hash2, key2| hash2[key2] = 0}}\n",
    "n = 0.0\n",
    "\n",
    "File.foreach(\"../data/context.tsv\").with_index do |line, index|\n",
    "  p index if index % 10000000 == 0\n",
    "  t, c = line.split\n",
    "  count_t[t] += 1\n",
    "  count_c[c] += 1\n",
    "  count_t_c[t][c] += 1\n",
    "  n += 1\n",
    "end\n",
    "\n",
    "1"
   ]
  },
  {
   "cell_type": "markdown",
   "metadata": {},
   "source": [
    "# 84. 単語文脈行列の作成\n",
    "\n",
    "83の出力を利用し，単語文脈行列XXを作成せよ．ただし，行列XXの各要素XtcXtcは次のように定義する．\n",
    "\n",
    "f(t,c)≥10f(t,c)≥10ならば，Xtc=PPMI(t,c)=max{logN×f(t,c)f(t,∗)×f(∗,c),0}Xtc=PPMI(t,c)=max{log⁡N×f(t,c)f(t,∗)×f(∗,c),0}\n",
    "f(t,c)<10f(t,c)<10ならば，Xtc=0Xtc=0\n",
    "ここで，PPMI(t,c)PPMI(t,c)はPositive Pointwise Mutual Information（正の相互情報量）と呼ばれる統計量である．なお，行列XXの行数・列数は数百万オーダとなり，行列のすべての要素を主記憶上に載せることは無理なので注意すること．幸い，行列XXのほとんどの要素は00になるので，非00の要素だけを書き出せばよい．"
   ]
  },
  {
   "cell_type": "markdown",
   "metadata": {},
   "source": [
    "多分NArrayに疎行列無い -> NMatrix"
   ]
  },
  {
   "cell_type": "code",
   "execution_count": 6,
   "metadata": {
    "collapsed": false
   },
   "outputs": [
    {
     "ename": "TypeError",
     "evalue": "array size must be Integer",
     "output_type": "error",
     "traceback": [
      "\u001b[31mTypeError\u001b[0m: array size must be Integer",
      "\u001b[37m(pry):81:in `initialize'\u001b[0m",
      "\u001b[37m(pry):81:in `zeros'\u001b[0m",
      "\u001b[37m(pry):81:in `<main>'\u001b[0m",
      "\u001b[37m/home/himkt/.rbenv/versions/2.3.0/lib/ruby/gems/2.3.0/gems/pry-0.10.4/lib/pry/pry_instance.rb:355:in `eval'\u001b[0m",
      "\u001b[37m/home/himkt/.rbenv/versions/2.3.0/lib/ruby/gems/2.3.0/gems/pry-0.10.4/lib/pry/pry_instance.rb:355:in `evaluate_ruby'\u001b[0m",
      "\u001b[37m/home/himkt/.rbenv/versions/2.3.0/lib/ruby/gems/2.3.0/gems/pry-0.10.4/lib/pry/pry_instance.rb:323:in `handle_line'\u001b[0m",
      "\u001b[37m/home/himkt/.rbenv/versions/2.3.0/lib/ruby/gems/2.3.0/gems/pry-0.10.4/lib/pry/pry_instance.rb:243:in `block (2 levels) in eval'\u001b[0m",
      "\u001b[37m/home/himkt/.rbenv/versions/2.3.0/lib/ruby/gems/2.3.0/gems/pry-0.10.4/lib/pry/pry_instance.rb:242:in `catch'\u001b[0m",
      "\u001b[37m/home/himkt/.rbenv/versions/2.3.0/lib/ruby/gems/2.3.0/gems/pry-0.10.4/lib/pry/pry_instance.rb:242:in `block in eval'\u001b[0m",
      "\u001b[37m/home/himkt/.rbenv/versions/2.3.0/lib/ruby/gems/2.3.0/gems/pry-0.10.4/lib/pry/pry_instance.rb:241:in `catch'\u001b[0m",
      "\u001b[37m/home/himkt/.rbenv/versions/2.3.0/lib/ruby/gems/2.3.0/gems/pry-0.10.4/lib/pry/pry_instance.rb:241:in `eval'\u001b[0m",
      "\u001b[37m/home/himkt/.rbenv/versions/2.3.0/lib/ruby/gems/2.3.0/gems/iruby-0.2.9/lib/iruby/backend.rb:65:in `eval'\u001b[0m",
      "\u001b[37m/home/himkt/.rbenv/versions/2.3.0/lib/ruby/gems/2.3.0/gems/iruby-0.2.9/lib/iruby/backend.rb:12:in `eval'\u001b[0m",
      "\u001b[37m/home/himkt/.rbenv/versions/2.3.0/lib/ruby/gems/2.3.0/gems/iruby-0.2.9/lib/iruby/kernel.rb:87:in `execute_request'\u001b[0m",
      "\u001b[37m/home/himkt/.rbenv/versions/2.3.0/lib/ruby/gems/2.3.0/gems/iruby-0.2.9/lib/iruby/kernel.rb:47:in `dispatch'\u001b[0m",
      "\u001b[37m/home/himkt/.rbenv/versions/2.3.0/lib/ruby/gems/2.3.0/gems/iruby-0.2.9/lib/iruby/kernel.rb:37:in `run'\u001b[0m",
      "\u001b[37m/home/himkt/.rbenv/versions/2.3.0/lib/ruby/gems/2.3.0/gems/iruby-0.2.9/lib/iruby/command.rb:70:in `run_kernel'\u001b[0m",
      "\u001b[37m/home/himkt/.rbenv/versions/2.3.0/lib/ruby/gems/2.3.0/gems/iruby-0.2.9/lib/iruby/command.rb:34:in `run'\u001b[0m",
      "\u001b[37m/home/himkt/.rbenv/versions/2.3.0/lib/ruby/gems/2.3.0/gems/iruby-0.2.9/bin/iruby:5:in `<top (required)>'\u001b[0m",
      "\u001b[37m/home/himkt/.rbenv/versions/2.3.0/bin/iruby:22:in `load'\u001b[0m",
      "\u001b[37m/home/himkt/.rbenv/versions/2.3.0/bin/iruby:22:in `<main>'\u001b[0m"
     ]
    }
   ],
   "source": [
    "c_token2index = {}\n",
    "count_t.keys.each_with_index{|key, index| c_token2index[key] = index}\n",
    "t_token2index = {}\n",
    "count_t.keys.each_with_index{|key, index| t_token2index[key] = index}\n",
    "\n",
    "mat = Numo::Float64.zeros(count_t.size, count_c.size, stype: :yale)\n",
    "count_t.keys.each do |t|\n",
    "  count_c.keys.each do |c|\n",
    "    if count_t_c[t][c] >= 1\n",
    "      pmmi = Numo::NMath.log((n * count_t_c[t][c]) /  (count_t[t] * count_c[c]))\n",
    "      mat[t_token2index[t], c_token2index[c]] = [0.0, pmmi].max\n",
    "    end\n",
    "  end\n",
    "end\n",
    "\n",
    "1"
   ]
  },
  {
   "cell_type": "markdown",
   "metadata": {},
   "source": [
    "# 85. 主成分分析による次元圧縮\n",
    "84で得られた単語文脈行列に対して，主成分分析を適用し，単語の意味ベクトルを300次元に圧縮せよ．"
   ]
  },
  {
   "cell_type": "code",
   "execution_count": 7,
   "metadata": {
    "collapsed": false
   },
   "outputs": [
    {
     "data": {
      "text/latex": [
       "$$\\left(\\begin{array}{cccccccccc}\n",
       "  10.0&10.0&10.0&10.0&10.0&10.0&10.0&10.0&10.0&10.0\\\\\n",
       "  10.0&10.0&10.0&10.0&10.0&10.0&10.0&10.0&10.0&10.0\\\\\n",
       "  10.0&10.0&10.0&10.0&10.0&10.0&10.0&10.0&10.0&10.0\\\\\n",
       "  10.0&10.0&10.0&10.0&10.0&10.0&10.0&10.0&10.0&10.0\\\\\n",
       "  10.0&10.0&10.0&10.0&10.0&10.0&10.0&10.0&10.0&10.0\\\\\n",
       "  10.0&10.0&10.0&10.0&10.0&10.0&10.0&10.0&10.0&10.0\\\\\n",
       "  10.0&10.0&10.0&10.0&10.0&10.0&10.0&10.0&10.0&10.0\\\\\n",
       "  10.0&10.0&10.0&10.0&10.0&10.0&10.0&10.0&10.0&10.0\\\\\n",
       "  10.0&10.0&10.0&10.0&10.0&10.0&10.0&10.0&10.0&10.0\\\\\n",
       "  10.0&10.0&10.0&10.0&10.0&10.0&10.0&10.0&10.0&10.0\\\\\n",
       "\\end{array}\\right)$$"
      ],
      "text/plain": [
       "#<NMatrix:0x00555cc48cd518 shape:[10,10] dtype:float64 stype:yale capacity:21>"
      ]
     },
     "execution_count": 7,
     "metadata": {},
     "output_type": "execute_result"
    }
   ],
   "source": [
    "mat = NMatrix.new(10, 10, stype: :yale, dtype: :float64)"
   ]
  },
  {
   "cell_type": "code",
   "execution_count": 8,
   "metadata": {
    "collapsed": false
   },
   "outputs": [
    {
     "ename": "StorageTypeError",
     "evalue": "LAPACK functions only work on dense matrices",
     "output_type": "error",
     "traceback": [
      "\u001b[31mStorageTypeError\u001b[0m: LAPACK functions only work on dense matrices",
      "\u001b[37m/home/himkt/.rbenv/versions/2.3.0/lib/ruby/gems/2.3.0/gems/nmatrix-lapacke-0.2.1/lib/nmatrix/lapacke.rb:75:in `geev'\u001b[0m",
      "\u001b[37m(pry):93:in `<main>'\u001b[0m",
      "\u001b[37m/home/himkt/.rbenv/versions/2.3.0/lib/ruby/gems/2.3.0/gems/pry-0.10.4/lib/pry/pry_instance.rb:355:in `eval'\u001b[0m",
      "\u001b[37m/home/himkt/.rbenv/versions/2.3.0/lib/ruby/gems/2.3.0/gems/pry-0.10.4/lib/pry/pry_instance.rb:355:in `evaluate_ruby'\u001b[0m",
      "\u001b[37m/home/himkt/.rbenv/versions/2.3.0/lib/ruby/gems/2.3.0/gems/pry-0.10.4/lib/pry/pry_instance.rb:323:in `handle_line'\u001b[0m",
      "\u001b[37m/home/himkt/.rbenv/versions/2.3.0/lib/ruby/gems/2.3.0/gems/pry-0.10.4/lib/pry/pry_instance.rb:243:in `block (2 levels) in eval'\u001b[0m",
      "\u001b[37m/home/himkt/.rbenv/versions/2.3.0/lib/ruby/gems/2.3.0/gems/pry-0.10.4/lib/pry/pry_instance.rb:242:in `catch'\u001b[0m",
      "\u001b[37m/home/himkt/.rbenv/versions/2.3.0/lib/ruby/gems/2.3.0/gems/pry-0.10.4/lib/pry/pry_instance.rb:242:in `block in eval'\u001b[0m",
      "\u001b[37m/home/himkt/.rbenv/versions/2.3.0/lib/ruby/gems/2.3.0/gems/pry-0.10.4/lib/pry/pry_instance.rb:241:in `catch'\u001b[0m",
      "\u001b[37m/home/himkt/.rbenv/versions/2.3.0/lib/ruby/gems/2.3.0/gems/pry-0.10.4/lib/pry/pry_instance.rb:241:in `eval'\u001b[0m",
      "\u001b[37m/home/himkt/.rbenv/versions/2.3.0/lib/ruby/gems/2.3.0/gems/iruby-0.2.9/lib/iruby/backend.rb:65:in `eval'\u001b[0m",
      "\u001b[37m/home/himkt/.rbenv/versions/2.3.0/lib/ruby/gems/2.3.0/gems/iruby-0.2.9/lib/iruby/backend.rb:12:in `eval'\u001b[0m",
      "\u001b[37m/home/himkt/.rbenv/versions/2.3.0/lib/ruby/gems/2.3.0/gems/iruby-0.2.9/lib/iruby/kernel.rb:87:in `execute_request'\u001b[0m",
      "\u001b[37m/home/himkt/.rbenv/versions/2.3.0/lib/ruby/gems/2.3.0/gems/iruby-0.2.9/lib/iruby/kernel.rb:47:in `dispatch'\u001b[0m",
      "\u001b[37m/home/himkt/.rbenv/versions/2.3.0/lib/ruby/gems/2.3.0/gems/iruby-0.2.9/lib/iruby/kernel.rb:37:in `run'\u001b[0m",
      "\u001b[37m/home/himkt/.rbenv/versions/2.3.0/lib/ruby/gems/2.3.0/gems/iruby-0.2.9/lib/iruby/command.rb:70:in `run_kernel'\u001b[0m",
      "\u001b[37m/home/himkt/.rbenv/versions/2.3.0/lib/ruby/gems/2.3.0/gems/iruby-0.2.9/lib/iruby/command.rb:34:in `run'\u001b[0m",
      "\u001b[37m/home/himkt/.rbenv/versions/2.3.0/lib/ruby/gems/2.3.0/gems/iruby-0.2.9/bin/iruby:5:in `<top (required)>'\u001b[0m",
      "\u001b[37m/home/himkt/.rbenv/versions/2.3.0/bin/iruby:22:in `load'\u001b[0m",
      "\u001b[37m/home/himkt/.rbenv/versions/2.3.0/bin/iruby:22:in `<main>'\u001b[0m"
     ]
    }
   ],
   "source": [
    "NMatrix::LAPACK.geev(mat)"
   ]
  }
 ],
 "metadata": {
  "kernelspec": {
   "display_name": "Ruby 2.3.0",
   "language": "ruby",
   "name": "ruby"
  },
  "language_info": {
   "file_extension": ".rb",
   "mimetype": "application/x-ruby",
   "name": "ruby",
   "version": "2.3.0"
  }
 },
 "nbformat": 4,
 "nbformat_minor": 0
}
