{
 "cells": [
  {
   "cell_type": "code",
   "execution_count": 1,
   "metadata": {
    "collapsed": false
   },
   "outputs": [
    {
     "data": {
      "text/plain": [
       "false"
      ]
     },
     "execution_count": 1,
     "metadata": {},
     "output_type": "execute_result"
    }
   ],
   "source": [
    "require 'stopwords'\n",
    "require 'rblearn'\n",
    "require 'stemmify'\n",
    "require 'numo/narray'\n",
    "require 'rblearn'"
   ]
  },
  {
   "cell_type": "markdown",
   "metadata": {},
   "source": [
    "# 70. データの入手・整形\n",
    "\n",
    "文に関する極性分析の正解データを用い，以下の要領で正解データ（sentiment.txt）を作成せよ．\n",
    "\n",
    "rt-polarity.posの各行の先頭に\"+1 \"という文字列を追加する（極性ラベル\"+1\"とスペースに続けて肯定的な文の内容が続く）\n",
    "rt-polarity.negの各行の先頭に\"-1 \"という文字列を追加する（極性ラベル\"-1\"とスペースに続けて否定的な文の内容が続く）\n",
    "上述1と2の内容を結合（concatenate）し，行をランダムに並び替える\n",
    "sentiment.txtを作成したら，正例（肯定的な文）の数と負例（否定的な文）の数を確認せよ．"
   ]
  },
  {
   "cell_type": "code",
   "execution_count": 2,
   "metadata": {
    "collapsed": false
   },
   "outputs": [
    {
     "data": {
      "text/plain": [
       ":knock70"
      ]
     },
     "execution_count": 2,
     "metadata": {},
     "output_type": "execute_result"
    }
   ],
   "source": [
    "def knock70\n",
    "  pos = File.open(\"../data/rt-polaritydata/rt-polarity.pos\").read\n",
    "  neg = File.open(\"../data/rt-polaritydata/rt-polarity.pos\").read\n",
    "\n",
    "  pos_tagged = pos.split(\"\\n\").map {|line| \"+1 #{line}\"}\n",
    "  neg_tagged = neg.split(\"\\n\").map {|line| \"-1 #{line}\"}\n",
    "  sen = (pos_tagged + neg_tagged).shuffle\n",
    "  counter = {\"+1\" => 0, \"-1\" => 0}\n",
    "\n",
    "  out = File.open(\"../data/sentiment.txt\", \"w\")\n",
    "  sen.each do |line|\n",
    "    out.puts line\n",
    "  end\n",
    "  out.close\n",
    "\n",
    "  open('../data/sentiment.txt').each_line do |line|\n",
    "    counter[line[0..1]] += 1\n",
    "  end\n",
    "\n",
    "  return counter\n",
    "end"
   ]
  },
  {
   "cell_type": "code",
   "execution_count": 3,
   "metadata": {
    "collapsed": false
   },
   "outputs": [
    {
     "data": {
      "text/plain": [
       "{\"+1\"=>5330, \"-1\"=>5330}"
      ]
     },
     "execution_count": 3,
     "metadata": {},
     "output_type": "execute_result"
    }
   ],
   "source": [
    "knock70"
   ]
  },
  {
   "cell_type": "markdown",
   "metadata": {},
   "source": [
    "# 71. ストップワード\n",
    "英語のストップワードのリスト（ストップリスト）を適当に作成せよ．さらに，引数に与えられた単語（文字列）がストップリストに含まれている場合は真，それ以外は偽を返す関数を実装せよ．さらに，その関数に対するテストを記述せよ．"
   ]
  },
  {
   "cell_type": "code",
   "execution_count": 4,
   "metadata": {
    "collapsed": false
   },
   "outputs": [
    {
     "data": {
      "text/plain": [
       ":is_stop?"
      ]
     },
     "execution_count": 4,
     "metadata": {},
     "output_type": "execute_result"
    }
   ],
   "source": [
    "# in order to check if the word is stop word with O(1)\n",
    "Stop_words = Hash.new {|hash, key| hash[key] = false}\n",
    "(Stopwords::STOP_WORDS + [\"'\", \",\", '.', \":\", \";\"]).each {|stop_word| Stop_words[stop_word] = true}\n",
    "\n",
    "def is_stop?(word)\n",
    "  Stop_words[word]\n",
    "end"
   ]
  },
  {
   "cell_type": "markdown",
   "metadata": {},
   "source": [
    "# 72. 素性抽出\n",
    "\n",
    "極性分析に有用そうな素性を各自で設計し，学習データから素性を抽出せよ．素性としては，レビューからストップワードを除去し，各単語をステミング処理したものが最低限のベースラインとなるであろう．"
   ]
  },
  {
   "cell_type": "code",
   "execution_count": 5,
   "metadata": {
    "collapsed": false
   },
   "outputs": [
    {
     "data": {
      "text/plain": [
       ":knock72"
      ]
     },
     "execution_count": 5,
     "metadata": {},
     "output_type": "execute_result"
    }
   ],
   "source": [
    "def knock72\n",
    "  labels = []\n",
    "  features = []\n",
    "\n",
    "  File.foreach('../data/sentiment.txt') do |line|\n",
    "    line.chomp!\n",
    "    label = line[0..1]\n",
    "    feature = line[3..-1]\n",
    "    labels << (label == '+1' ? 1 : 0)\n",
    "    features << feature\n",
    "  end\n",
    "\n",
    "  cv = Rblearn::CountVectorizer.new(lambda{|feature| feature.split.map(&:stem).map(&:downcase)}, 1, 0.7)\n",
    "  cv.fit_transform(features)\n",
    "\n",
    "  y = Numo::Int8.zeros([labels.size, 1])\n",
    "  labels.each_with_index do |label, i|\n",
    "    y[i, 0] = label\n",
    "  end\n",
    "\n",
    "  return [cv, y]\n",
    "end"
   ]
  },
  {
   "cell_type": "code",
   "execution_count": 6,
   "metadata": {
    "collapsed": false
   },
   "outputs": [
    {
     "data": {
      "text/plain": [
       "1"
      ]
     },
     "execution_count": 6,
     "metadata": {},
     "output_type": "execute_result"
    }
   ],
   "source": [
    "cv, y = knock72\n",
    "\n",
    "1"
   ]
  },
  {
   "cell_type": "markdown",
   "metadata": {},
   "source": [
    "# 73. 学習\n",
    "\n",
    "72で抽出した素性を用いて，ロジスティック回帰モデルを学習せよ．"
   ]
  },
  {
   "cell_type": "code",
   "execution_count": 7,
   "metadata": {
    "collapsed": false
   },
   "outputs": [
    {
     "data": {
      "text/plain": [
       ":loss"
      ]
     },
     "execution_count": 7,
     "metadata": {},
     "output_type": "execute_result"
    }
   ],
   "source": [
    "class LogisticRegressionModel\n",
    "  attr_accessor :w\n",
    "\n",
    "  def initialize(eta, threshold)\n",
    "    @eta = eta\n",
    "    @threshold = threshold\n",
    "  end\n",
    "  \n",
    "  \n",
    "  def h(x)\n",
    "    z = x.dot(@w)\n",
    "    return 1 / (1 + Numo::NMath.exp(-z))\n",
    "  end\n",
    "\n",
    "\n",
    "  def fit(x, y)\n",
    "    # @w = Numo::Float64.zeros([x.shape[1], 1])\n",
    "    @w = Numo::Float64.new([x.shape[1], 1]).rand\n",
    "    60.times do |t|\n",
    "\n",
    "      # p y-h(x)\n",
    "      # NOTE: there is something bug\n",
    "      @w = @w - @eta * x.transpose.dup.dot(h(x) - y) # x.T.dot(h(x) - y): gradient\n",
    "      puts \"#iter: #{t}, accuracy: #{score(x, y)} loss: #{loss(x, y)}\" if t % 5 == 0\n",
    "    end\n",
    "  end\n",
    "\n",
    "\n",
    "  def predict(x)\n",
    "    probabilities = h(x)\n",
    "    return probabilities > @threshold\n",
    "  end\n",
    "\n",
    "\n",
    "  def predict_prob(x)\n",
    "    return h(x)\n",
    "  end\n",
    "\n",
    "\n",
    "  def score(x, y)\n",
    "    predicted_class = predict(x)\n",
    "    num_data = predicted_class.shape[0]\n",
    "\n",
    "    py = predicted_class.to_a\n",
    "    ry = y.to_a\n",
    "\n",
    "    num_correct = 0\n",
    "    num_data.times do |t|\n",
    "      num_correct += 1 if (py[t] == ry[t])\n",
    "    end\n",
    "\n",
    "    return num_correct.to_f / num_data\n",
    "  end\n",
    "\n",
    "\n",
    "  def loss(x, y)\n",
    "    a = - Numo::NMath.log(h(x)).transpose.dot(y)[0, 0]\n",
    "    b = - Numo::NMath.log(1-h(x)).transpose.dot(1-y)\n",
    "    (a + b)[0, 0]\n",
    "  end\n",
    "end"
   ]
  },
  {
   "cell_type": "code",
   "execution_count": 8,
   "metadata": {
    "collapsed": false
   },
   "outputs": [
    {
     "name": "stdout",
     "output_type": "stream",
     "text": [
      "#iter: 0, accuracy: 0.49705172875904585 loss: 10786.126143069476\n",
      "#iter: 5, accuracy: 0.519163763066202 loss: 6281.452210917492\n",
      "#iter: 10, accuracy: 0.536853390511927 loss: 5668.623745819228\n",
      "#iter: 15, accuracy: 0.5501206110962209 loss: 5356.689439940982\n",
      "#iter: 20, accuracy: 0.5620477083891718 loss: 5164.521007243623\n",
      "#iter: 25, accuracy: 0.5722326454033771 loss: 5032.939191396279\n",
      "#iter: 30, accuracy: 0.5789332618600911 loss: 4936.112883462274\n",
      "#iter: 35, accuracy: 0.5871080139372822 loss: 4860.962584956831\n",
      "#iter: 40, accuracy: 0.5940766550522648 loss: 4800.293747277765\n",
      "#iter: 45, accuracy: 0.5998391852050389 loss: 4749.8715454125595\n",
      "#iter: 50, accuracy: 0.6050656660412758 loss: 4707.019934522199\n",
      "#iter: 55, accuracy: 0.6093540605735728 loss: 4669.937993763386\n",
      "test accuracy: 0.23827392120075047\n"
     ]
    }
   ],
   "source": [
    "x = cv.doc_matrix\n",
    "x_train, y_train, x_test, y_test = Rblearn::CrossValidation.train_test_split(x, y, 0.3).map(&:dup)\n",
    "model = LogisticRegressionModel.new(0.01, 0.5)\n",
    "model.fit(x_train, y_train)\n",
    "\n",
    "puts \"test accuracy: #{model.score(x_test, y_test)}\""
   ]
  },
  {
   "cell_type": "markdown",
   "metadata": {},
   "source": [
    "# 74. 予測\n",
    "\n",
    "73で学習したロジスティック回帰モデルを用い，与えられた文の極性ラベル（正例なら\"+1\"，負例なら\"-1\"）と，その予測確率を計算するプログラムを実装せよ．"
   ]
  },
  {
   "cell_type": "code",
   "execution_count": 9,
   "metadata": {
    "collapsed": false
   },
   "outputs": [
    {
     "name": "stdout",
     "output_type": "stream",
     "text": [
      "0\n",
      "1\n",
      "0\n",
      "1\n",
      "1\n",
      "0\n",
      "0\n",
      "0\n",
      "0\n",
      "0\n",
      "1\n",
      "0\n",
      "1\n",
      "1\n",
      "1\n",
      "1\n",
      "1\n",
      "1\n",
      "1\n",
      "1\n",
      "1\n",
      "0\n",
      "1\n",
      "0\n",
      "1\n",
      "0\n",
      "1\n",
      "1\n",
      "0\n",
      "1\n",
      "1\n"
     ]
    }
   ],
   "source": [
    "model.predict(x_test).each_with_index do |arr, index|\n",
    "  puts arr\n",
    "  break if index == 30\n",
    "end"
   ]
  },
  {
   "cell_type": "markdown",
   "metadata": {},
   "source": [
    "# 75. 素性の重み\n",
    "73で学習したロジスティック回帰モデルの中で，重みの高い素性トップ10と，重みの低い素性トップ10を確認せよ．"
   ]
  },
  {
   "cell_type": "code",
   "execution_count": 10,
   "metadata": {
    "collapsed": false
   },
   "outputs": [
    {
     "name": "stdout",
     "output_type": "stream",
     "text": [
      "high\n",
      "hilar\t1.4466232193946458\n",
      "intellect\t1.3428097121689064\n",
      "jame\t1.3211350038163003\n",
      "forest\t1.3000183981011286\n",
      "trashi\t1.2731607045727318\n",
      "categori\t1.2699986591495904\n",
      "guilt\t1.265813439281444\n",
      "entri\t1.2658079361121046\n",
      "resist\t1.2541875840938255\n",
      "unhurri\t1.2403106858150077\n",
      "low\n",
      "neil\t-1.2406206446496397\n",
      "o\t-1.1550142050451178\n",
      "georg\t-1.148662530126893\n",
      "hous\t-1.1470415360623498\n",
      "liber\t-1.0491716309697714\n",
      "greatest\t-1.0379896738077525\n",
      "left\t-1.0378007072739752\n",
      "j\t-0.9859741311207221\n",
      "everydai\t-0.9603967144056813\n",
      "safe\t-0.9561737051588816\n"
     ]
    },
    {
     "data": {
      "text/plain": [
       "1"
      ]
     },
     "execution_count": 10,
     "metadata": {},
     "output_type": "execute_result"
    }
   ],
   "source": [
    "feature_names = cv.get_feature_names\n",
    "weights = model.w.to_a.map{|arr| arr[0]}\n",
    "name_weights = {}\n",
    "\n",
    "feature_names.size.times do |t|\n",
    "  name_weights[feature_names[t]] = weights[t]\n",
    "end\n",
    "\n",
    "puts \"high\"\n",
    "name_weights.\n",
    "  sort{|(_, v1), (_, v2)| v2 <=> v1}.\n",
    "  first(10).\n",
    "  map{|arr| arr.join(\"\\t\")}.\n",
    "  each do |record|\n",
    "    puts record\n",
    "  end\n",
    "\n",
    "puts \"low\"\n",
    "name_weights.\n",
    "  sort{|(_, v1), (_, v2)| v1 <=> v2}.\n",
    "  first(10).\n",
    "  map{|arr| arr.join(\"\\t\")}.\n",
    "  each do |record|\n",
    "    puts record\n",
    "  end\n",
    "\n",
    "1"
   ]
  },
  {
   "cell_type": "markdown",
   "metadata": {},
   "source": [
    "# 76. ラベル付け\n",
    "\n",
    "学習データに対してロジスティック回帰モデルを適用し，正解のラベル，予測されたラベル，予測確率をタブ区切り形式で出力せよ．"
   ]
  },
  {
   "cell_type": "code",
   "execution_count": 11,
   "metadata": {
    "collapsed": false
   },
   "outputs": [
    {
     "name": "stdout",
     "output_type": "stream",
     "text": [
      "1\t0\t0.3790063678703021\n",
      "0\t1\t0.7169789416107691\n",
      "0\t0\t0.4980758602896097\n",
      "0\t1\t0.7768226254367465\n",
      "0\t1\t0.5438573472933226\n",
      "1\t0\t0.05073617354228076\n",
      "0\t0\t0.3858109211434544\n",
      "1\t0\t0.3467848833474927\n",
      "1\t0\t0.36112053854763615\n",
      "1\t0\t0.37108134886668903\n",
      "1\t1\t0.778321592637828\n",
      "1\t0\t0.12048240992930448\n",
      "0\t1\t0.5429813677467128\n",
      "0\t1\t0.8154461191796761\n",
      "0\t1\t0.9031194760921107\n",
      "0\t1\t0.8930828783199266\n",
      "0\t1\t0.7431465813170596\n",
      "0\t1\t0.7943655129917341\n",
      "0\t1\t0.811473221202199\n",
      "1\t1\t0.7380209305903574\n",
      "1\t1\t0.7822330881510614\n",
      "0\t0\t0.45851082057535825\n",
      "0\t1\t0.7375629473664235\n",
      "1\t0\t0.2436159602191\n",
      "0\t1\t0.9108123427268369\n",
      "0\t0\t0.4216989879629056\n",
      "0\t1\t0.7605618773106952\n",
      "0\t1\t0.5192097437511775\n",
      "0\t0\t0.21156060898586398\n",
      "0\t1\t0.6111221582961177\n"
     ]
    }
   ],
   "source": [
    "a = y_test.to_a.map{|arr| arr[0]}\n",
    "b = model.predict(x_test).to_a.map{|arr| arr[0]}\n",
    "c = model.predict_prob(x_test).to_a.map{|arr| arr[0]}\n",
    "\n",
    "output = open('../data/knock76.tsv', 'w')\n",
    "\n",
    "a.size.times do |t|\n",
    "  puts \"#{a[t]}\\t#{b[t]}\\t#{c[t]}\" if t < 30\n",
    "  output.puts \"#{a[t]}\\t#{b[t]}\\t#{c[t]}\"\n",
    "end\n",
    "\n",
    "output.close"
   ]
  },
  {
   "cell_type": "markdown",
   "metadata": {},
   "source": [
    "# 77. 正解率の計測\n",
    "\n",
    "76の出力を受け取り，予測の正解率，正例に関する適合率，再現率，F1スコアを求めるプログラムを作成せよ．"
   ]
  },
  {
   "cell_type": "code",
   "execution_count": 12,
   "metadata": {
    "collapsed": false
   },
   "outputs": [
    {
     "name": "stdout",
     "output_type": "stream",
     "text": [
      "precision: 0.25\n",
      "recall: 0.7472187886279357\n",
      "F-1 score: 0.3746513789897738\n"
     ]
    }
   ],
   "source": [
    "num_all = 0\n",
    "num1 = 0.0\n",
    "num2 = 0.0\n",
    "num3 = 0.0\n",
    "\n",
    "# a is the actual label\n",
    "# b is the predicted label\n",
    "File.foreach('../data/knock76.tsv') do |line|\n",
    "  num_all += 1\n",
    "\n",
    "  a, b, _ = line.split.map(&:to_f)\n",
    "  \n",
    "  if b == 1\n",
    "    if a == 1\n",
    "      num1 += 1\n",
    "    elsif a == 0\n",
    "      num2 += 1\n",
    "    end\n",
    "  elsif b == 0 && a == 1\n",
    "    num3 += 1\n",
    "  end\n",
    "end\n",
    "\n",
    "precision = num1 / (num1 + num2)\n",
    "recall = num3 / (num1 + num3)\n",
    "\n",
    "puts \"precision: #{precision}\"\n",
    "puts \"recall: #{recall}\"\n",
    "puts \"F-1 score: #{2*precision*recall / (precision + recall)}\""
   ]
  }
 ],
 "metadata": {
  "kernelspec": {
   "display_name": "Ruby 2.3.0",
   "language": "ruby",
   "name": "ruby"
  },
  "language_info": {
   "file_extension": ".rb",
   "mimetype": "application/x-ruby",
   "name": "ruby",
   "version": "2.3.0"
  }
 },
 "nbformat": 4,
 "nbformat_minor": 0
}
