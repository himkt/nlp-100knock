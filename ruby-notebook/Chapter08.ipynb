{
 "cells": [
  {
   "cell_type": "code",
   "execution_count": 1,
   "metadata": {
    "collapsed": false
   },
   "outputs": [
    {
     "data": {
      "text/plain": [
       "false"
      ]
     },
     "execution_count": 1,
     "metadata": {},
     "output_type": "execute_result"
    }
   ],
   "source": [
    "require 'stopwords'\n",
    "require 'rblearn'\n",
    "require 'stemmify'\n",
    "require 'numo/narray'\n",
    "require 'rblearn'"
   ]
  },
  {
   "cell_type": "markdown",
   "metadata": {},
   "source": [
    "# 70. データの入手・整形\n",
    "\n",
    "文に関する極性分析の正解データを用い，以下の要領で正解データ（sentiment.txt）を作成せよ．\n",
    "\n",
    "rt-polarity.posの各行の先頭に\"+1 \"という文字列を追加する（極性ラベル\"+1\"とスペースに続けて肯定的な文の内容が続く）\n",
    "rt-polarity.negの各行の先頭に\"-1 \"という文字列を追加する（極性ラベル\"-1\"とスペースに続けて否定的な文の内容が続く）\n",
    "上述1と2の内容を結合（concatenate）し，行をランダムに並び替える\n",
    "sentiment.txtを作成したら，正例（肯定的な文）の数と負例（否定的な文）の数を確認せよ．"
   ]
  },
  {
   "cell_type": "code",
   "execution_count": 2,
   "metadata": {
    "collapsed": false
   },
   "outputs": [
    {
     "data": {
      "text/plain": [
       ":knock70"
      ]
     },
     "execution_count": 2,
     "metadata": {},
     "output_type": "execute_result"
    }
   ],
   "source": [
    "def knock70\n",
    "  pos = File.open(\"../data/rt-polaritydata/rt-polarity.pos\").read\n",
    "  neg = File.open(\"../data/rt-polaritydata/rt-polarity.pos\").read\n",
    "\n",
    "  pos_tagged = pos.split(\"\\n\").map {|line| \"+1 #{line}\"}\n",
    "  neg_tagged = neg.split(\"\\n\").map {|line| \"-1 #{line}\"}\n",
    "  sen = (pos_tagged + neg_tagged).shuffle\n",
    "  counter = {\"+1\" => 0, \"-1\" => 0}\n",
    "\n",
    "  out = File.open(\"../data/sentiment.txt\", \"w\")\n",
    "  sen.each do |line|\n",
    "    out.puts line\n",
    "  end\n",
    "  out.close\n",
    "\n",
    "  open('../data/sentiment.txt').each_line do |line|\n",
    "    counter[line[0..1]] += 1\n",
    "  end\n",
    "\n",
    "  return counter\n",
    "end"
   ]
  },
  {
   "cell_type": "code",
   "execution_count": 3,
   "metadata": {
    "collapsed": false
   },
   "outputs": [
    {
     "data": {
      "text/plain": [
       "{\"+1\"=>5330, \"-1\"=>5330}"
      ]
     },
     "execution_count": 3,
     "metadata": {},
     "output_type": "execute_result"
    }
   ],
   "source": [
    "knock70"
   ]
  },
  {
   "cell_type": "markdown",
   "metadata": {},
   "source": [
    "# 71. ストップワード\n",
    "英語のストップワードのリスト（ストップリスト）を適当に作成せよ．さらに，引数に与えられた単語（文字列）がストップリストに含まれている場合は真，それ以外は偽を返す関数を実装せよ．さらに，その関数に対するテストを記述せよ．"
   ]
  },
  {
   "cell_type": "code",
   "execution_count": 4,
   "metadata": {
    "collapsed": false
   },
   "outputs": [
    {
     "data": {
      "text/plain": [
       ":is_stop?"
      ]
     },
     "execution_count": 4,
     "metadata": {},
     "output_type": "execute_result"
    }
   ],
   "source": [
    "# in order to check if the word is stop word with O(1)\n",
    "Stop_words = Hash.new {|hash, key| hash[key] = false}\n",
    "(Stopwords::STOP_WORDS + [\"'\", \",\", '.', \":\", \";\"]).each {|stop_word| Stop_words[stop_word] = true}\n",
    "\n",
    "def is_stop?(word)\n",
    "  Stop_words[word]\n",
    "end"
   ]
  },
  {
   "cell_type": "markdown",
   "metadata": {},
   "source": [
    "# 72. 素性抽出\n",
    "\n",
    "極性分析に有用そうな素性を各自で設計し，学習データから素性を抽出せよ．素性としては，レビューからストップワードを除去し，各単語をステミング処理したものが最低限のベースラインとなるであろう．"
   ]
  },
  {
   "cell_type": "code",
   "execution_count": 5,
   "metadata": {
    "collapsed": false
   },
   "outputs": [
    {
     "data": {
      "text/plain": [
       ":knock72"
      ]
     },
     "execution_count": 5,
     "metadata": {},
     "output_type": "execute_result"
    }
   ],
   "source": [
    "def knock72\n",
    "  labels = []\n",
    "  features = []\n",
    "\n",
    "  File.foreach('../data/sentiment.txt') do |line|\n",
    "    line.chomp!\n",
    "    label = line[0..1]\n",
    "    feature = line[3..-1]\n",
    "    labels << (label == '+1' ? 1 : 0)\n",
    "    features << feature\n",
    "  end\n",
    "\n",
    "  cv = Rblearn::CountVectorizer.new(lambda{|feature| feature.split.map(&:stem).map(&:downcase)}, 1, 0.7)\n",
    "  cv.fit_transform(features)\n",
    "\n",
    "  y = Numo::Int8.zeros([labels.size, 1])\n",
    "  labels.each_with_index do |label, i|\n",
    "    y[i, 0] = label\n",
    "  end\n",
    "\n",
    "  return [cv, y]\n",
    "end"
   ]
  },
  {
   "cell_type": "code",
   "execution_count": 6,
   "metadata": {
    "collapsed": false
   },
   "outputs": [
    {
     "data": {
      "text/plain": [
       "1"
      ]
     },
     "execution_count": 6,
     "metadata": {},
     "output_type": "execute_result"
    }
   ],
   "source": [
    "cv, y = knock72\n",
    "\n",
    "1"
   ]
  },
  {
   "cell_type": "markdown",
   "metadata": {},
   "source": [
    "# 73. 学習\n",
    "\n",
    "72で抽出した素性を用いて，ロジスティック回帰モデルを学習せよ．"
   ]
  },
  {
   "cell_type": "code",
   "execution_count": 7,
   "metadata": {
    "collapsed": false
   },
   "outputs": [
    {
     "data": {
      "text/plain": [
       ":score"
      ]
     },
     "execution_count": 7,
     "metadata": {},
     "output_type": "execute_result"
    }
   ],
   "source": [
    "class LogisticRegressionModel\n",
    "  attr_accessor :w\n",
    "\n",
    "  def initialize(eta, threshold)\n",
    "    @eta = eta\n",
    "    @threshold = threshold\n",
    "  end\n",
    "  \n",
    "  \n",
    "  def h(x)\n",
    "    z = x.dot(@w)\n",
    "    return 1 / (1 + Numo::NMath.exp(-z))\n",
    "  end\n",
    "\n",
    "\n",
    "  def fit(x, y)\n",
    "    @w = Numo::Float64.new([x.shape[1], 1]).rand\n",
    "    30.times do |t|\n",
    "\n",
    "      # p y-h(x)\n",
    "      # NOTE: there is something bug\n",
    "      @w = @w - @eta * x.transpose.dup.dot(h(x) - y) # x.T.dot(h(x) - y): gradient\n",
    "      puts \"#iter: #{t}, accuracy: #{score(x, y)}\" if t % 5 == 0\n",
    "    end\n",
    "  end\n",
    "\n",
    "\n",
    "  def predict(x)\n",
    "    probabilities = h(x)\n",
    "    return probabilities > @threshold\n",
    "  end\n",
    "\n",
    "\n",
    "  def predict_prob(x)\n",
    "    return h(x)\n",
    "  end\n",
    "\n",
    "\n",
    "  def score(x, y)\n",
    "    predicted_class = predict(x)\n",
    "    num_data = predicted_class.shape[0]\n",
    "\n",
    "    py = predicted_class.to_a\n",
    "    ry = y.to_a\n",
    "\n",
    "    num_correct = 0\n",
    "    num_data.times do |t|\n",
    "      num_correct += 1 if py[t] == ry[t]\n",
    "    end\n",
    "    return num_correct.to_f / num_data\n",
    "  end\n",
    "end"
   ]
  },
  {
   "cell_type": "code",
   "execution_count": 8,
   "metadata": {
    "collapsed": false
   },
   "outputs": [
    {
     "name": "stdout",
     "output_type": "stream",
     "text": [
      "#iter: 0, accuracy: 0.5069418386491558\n",
      "#iter: 5, accuracy: 0.5560975609756098\n",
      "#iter: 10, accuracy: 0.5887429643527204\n",
      "#iter: 15, accuracy: 0.6080675422138837\n",
      "#iter: 20, accuracy: 0.6213883677298312\n",
      "#iter: 25, accuracy: 0.6311444652908067\n",
      "test accuracy: 0.3617260787992495\n"
     ]
    }
   ],
   "source": [
    "x = cv.doc_matrix\n",
    "x_train, y_train, x_test, y_test = Rblearn::CrossValidation.train_test_split(x, y, 0.5).map(&:dup)\n",
    "\n",
    "model = LogisticRegressionModel.new(0.02, 0.7)\n",
    "model.fit(x_train, y_train)\n",
    "\n",
    "puts \"test accuracy: #{model.score(x_test, y_test)}\""
   ]
  },
  {
   "cell_type": "markdown",
   "metadata": {},
   "source": [
    "# 74. 予測\n",
    "\n",
    "73で学習したロジスティック回帰モデルを用い，与えられた文の極性ラベル（正例なら\"+1\"，負例なら\"-1\"）と，その予測確率を計算するプログラムを実装せよ．"
   ]
  },
  {
   "cell_type": "code",
   "execution_count": 9,
   "metadata": {
    "collapsed": false
   },
   "outputs": [
    {
     "name": "stdout",
     "output_type": "stream",
     "text": [
      "0\n",
      "1\n",
      "1\n",
      "1\n",
      "1\n",
      "0\n",
      "0\n",
      "0\n",
      "0\n",
      "0\n",
      "0\n",
      "1\n",
      "1\n",
      "1\n",
      "0\n",
      "1\n",
      "0\n",
      "0\n",
      "0\n",
      "0\n",
      "1\n",
      "0\n",
      "0\n",
      "1\n",
      "1\n",
      "0\n",
      "0\n",
      "0\n",
      "0\n",
      "0\n",
      "0\n"
     ]
    }
   ],
   "source": [
    "model.predict(x_test).each_with_index do |arr, index|\n",
    "  puts arr\n",
    "  break if index == 30\n",
    "end"
   ]
  },
  {
   "cell_type": "markdown",
   "metadata": {},
   "source": [
    "# 75. 素性の重み\n",
    "73で学習したロジスティック回帰モデルの中で，重みの高い素性トップ10と，重みの低い素性トップ10を確認せよ．"
   ]
  },
  {
   "cell_type": "code",
   "execution_count": 10,
   "metadata": {
    "collapsed": false
   },
   "outputs": [
    {
     "name": "stdout",
     "output_type": "stream",
     "text": [
      "high\n",
      "spark\t1.597826925085305\n",
      "progress\t1.4879646682207617\n",
      "dead\t1.444739489440449\n",
      "flair\t1.4342877810955545\n",
      "stuart\t1.4147933426740569\n",
      "sear\t1.4098002203917002\n",
      "gloss\t1.4086219310397996\n",
      "muccino\t1.4040320651507008\n",
      "nasti\t1.341434823216564\n",
      "nostalgia\t1.33791615251975\n",
      "low\n",
      "y\t-1.3076134455471835\n",
      "tradit\t-1.2918763845310999\n",
      "cinemat\t-1.2580662063052148\n",
      "john\t-1.2508738545571203\n",
      "roll\t-1.153649362359493\n",
      "strike\t-1.1415180912167298\n",
      "simpli\t-1.1066214824500504\n",
      "antic\t-1.1049492821687918\n",
      "talent\t-1.0399403104165472\n",
      "center\t-1.0210059418976267\n"
     ]
    },
    {
     "data": {
      "text/plain": [
       "1"
      ]
     },
     "execution_count": 10,
     "metadata": {},
     "output_type": "execute_result"
    }
   ],
   "source": [
    "feature_names = cv.get_feature_names\n",
    "weights = model.w.to_a.map{|arr| arr[0]}\n",
    "name_weights = {}\n",
    "\n",
    "feature_names.size.times do |t|\n",
    "  name_weights[feature_names[t]] = weights[t]\n",
    "end\n",
    "\n",
    "puts \"high\"\n",
    "name_weights.\n",
    "  sort{|(_, v1), (_, v2)| v2 <=> v1}.\n",
    "  first(10).\n",
    "  map{|arr| arr.join(\"\\t\")}.\n",
    "  each do |record|\n",
    "    puts record\n",
    "  end\n",
    "\n",
    "puts \"low\"\n",
    "name_weights.\n",
    "  sort{|(_, v1), (_, v2)| v1 <=> v2}.\n",
    "  first(10).\n",
    "  map{|arr| arr.join(\"\\t\")}.\n",
    "  each do |record|\n",
    "    puts record\n",
    "  end\n",
    "\n",
    "1"
   ]
  },
  {
   "cell_type": "markdown",
   "metadata": {},
   "source": [
    "# 76. ラベル付け\n",
    "\n",
    "学習データに対してロジスティック回帰モデルを適用し，正解のラベル，予測されたラベル，予測確率をタブ区切り形式で出力せよ．"
   ]
  },
  {
   "cell_type": "code",
   "execution_count": 11,
   "metadata": {
    "collapsed": false
   },
   "outputs": [
    {
     "name": "stdout",
     "output_type": "stream",
     "text": [
      "1\t0\t0.1314689978032677\n",
      "0\t1\t0.7461735800854119\n",
      "1\t1\t0.837494327018176\n",
      "0\t1\t0.7643645161495609\n",
      "1\t1\t0.7581279822014793\n",
      "0\t0\t0.5109588535089932\n",
      "0\t0\t0.6795177559043514\n",
      "1\t0\t0.6415005470906667\n",
      "1\t0\t0.10308033650702865\n",
      "0\t0\t0.4242130718630955\n",
      "0\t0\t0.22791969699227949\n",
      "0\t1\t0.8655672849209247\n",
      "0\t1\t0.7600173254693662\n",
      "1\t1\t0.7248224262153257\n",
      "0\t0\t0.49960708329416625\n",
      "0\t1\t0.8207661204919647\n",
      "1\t0\t0.3264702427186831\n",
      "1\t0\t0.45934594377098\n",
      "1\t0\t0.5360512053477997\n",
      "0\t0\t0.04588150035881643\n",
      "0\t1\t0.9766663346991744\n",
      "1\t0\t0.339681458259064\n",
      "0\t0\t0.33295423204546004\n",
      "0\t1\t0.9110690191626709\n",
      "1\t1\t0.8829097226455447\n",
      "1\t0\t0.3819298246100228\n",
      "0\t0\t0.4469917806206784\n",
      "1\t0\t0.42731635036797644\n",
      "1\t0\t0.20725726477480755\n",
      "1\t0\t0.5177972063551768\n"
     ]
    }
   ],
   "source": [
    "a = y_test.to_a.map{|arr| arr[0]}\n",
    "b = model.predict(x_test).to_a.map{|arr| arr[0]}\n",
    "c = model.predict_prob(x_test).to_a.map{|arr| arr[0]}\n",
    "\n",
    "output = open('../data/knock76.tsv', 'w')\n",
    "\n",
    "a.size.times do |t|\n",
    "  puts \"#{a[t]}\\t#{b[t]}\\t#{c[t]}\" if t < 30\n",
    "  output.puts \"#{a[t]}\\t#{b[t]}\\t#{c[t]}\"\n",
    "end\n",
    "\n",
    "output.close"
   ]
  },
  {
   "cell_type": "markdown",
   "metadata": {},
   "source": [
    "# 77. 正解率の計測\n",
    "\n",
    "76の出力を受け取り，予測の正解率，正例に関する適合率，再現率，F1スコアを求めるプログラムを作成せよ．"
   ]
  },
  {
   "cell_type": "code",
   "execution_count": 12,
   "metadata": {
    "collapsed": false
   },
   "outputs": [
    {
     "name": "stdout",
     "output_type": "stream",
     "text": [
      "precision: 0.2686002522068096\n",
      "recall: 0.8403298350824587\n",
      "F-1 score: 0.4070821203738828\n"
     ]
    }
   ],
   "source": [
    "num_all = 0\n",
    "num1 = 0.0\n",
    "num2 = 0.0\n",
    "num3 = 0.0\n",
    "\n",
    "# a is the actual label\n",
    "# b is the predicted label\n",
    "File.foreach('../data/knock76.tsv') do |line|\n",
    "  num_all += 1\n",
    "\n",
    "  a, b, _ = line.split.map(&:to_f)\n",
    "  \n",
    "  if b == 1\n",
    "    if a == 1\n",
    "      num1 += 1\n",
    "    elsif a == 0\n",
    "      num2 += 1\n",
    "    end\n",
    "  elsif b == 0 && a == 1\n",
    "    num3 += 1\n",
    "  end\n",
    "end\n",
    "\n",
    "precision = num1 / (num1 + num2)\n",
    "recall = num3 / (num1 + num3)\n",
    "\n",
    "puts \"precision: #{precision}\"\n",
    "puts \"recall: #{recall}\"\n",
    "puts \"F-1 score: #{2*precision*recall / (precision + recall)}\""
   ]
  }
 ],
 "metadata": {
  "kernelspec": {
   "display_name": "Ruby 2.3.0",
   "language": "ruby",
   "name": "ruby"
  },
  "language_info": {
   "file_extension": ".rb",
   "mimetype": "application/x-ruby",
   "name": "ruby",
   "version": "2.3.0"
  }
 },
 "nbformat": 4,
 "nbformat_minor": 0
}
