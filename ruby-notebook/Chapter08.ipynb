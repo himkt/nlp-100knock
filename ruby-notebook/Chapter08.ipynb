{
 "cells": [
  {
   "cell_type": "code",
   "execution_count": 1,
   "metadata": {
    "collapsed": false
   },
   "outputs": [
    {
     "data": {
      "text/plain": [
       "false"
      ]
     },
     "execution_count": 1,
     "metadata": {},
     "output_type": "execute_result"
    }
   ],
   "source": [
    "require 'stopwords'\n",
    "require 'rblearn'\n",
    "require 'stemmify'\n",
    "require 'numo/narray'\n",
    "require 'rblearn'"
   ]
  },
  {
   "cell_type": "markdown",
   "metadata": {},
   "source": [
    "# 70. データの入手・整形\n",
    "\n",
    "文に関する極性分析の正解データを用い，以下の要領で正解データ（sentiment.txt）を作成せよ．\n",
    "\n",
    "rt-polarity.posの各行の先頭に\"+1 \"という文字列を追加する（極性ラベル\"+1\"とスペースに続けて肯定的な文の内容が続く）\n",
    "rt-polarity.negの各行の先頭に\"-1 \"という文字列を追加する（極性ラベル\"-1\"とスペースに続けて否定的な文の内容が続く）\n",
    "上述1と2の内容を結合（concatenate）し，行をランダムに並び替える\n",
    "sentiment.txtを作成したら，正例（肯定的な文）の数と負例（否定的な文）の数を確認せよ．"
   ]
  },
  {
   "cell_type": "code",
   "execution_count": 2,
   "metadata": {
    "collapsed": false
   },
   "outputs": [
    {
     "data": {
      "text/plain": [
       ":knock70"
      ]
     },
     "execution_count": 2,
     "metadata": {},
     "output_type": "execute_result"
    }
   ],
   "source": [
    "def knock70\n",
    "  pos = File.open(\"../data/rt-polaritydata/rt-polarity.pos\").read\n",
    "  neg = File.open(\"../data/rt-polaritydata/rt-polarity.pos\").read\n",
    "\n",
    "  pos_tagged = pos.split(\"\\n\").map {|line| \"+1 #{line}\"}\n",
    "  neg_tagged = neg.split(\"\\n\").map {|line| \"-1 #{line}\"}\n",
    "  sen = (pos_tagged + neg_tagged).shuffle\n",
    "  counter = {\"+1\" => 0, \"-1\" => 0}\n",
    "\n",
    "  out = File.open(\"../data/sentiment.txt\", \"w\")\n",
    "  sen.each do |line|\n",
    "    out.puts line\n",
    "  end\n",
    "  out.close\n",
    "\n",
    "  open('../data/sentiment.txt').each_line do |line|\n",
    "    counter[line[0..1]] += 1\n",
    "  end\n",
    "\n",
    "  return counter\n",
    "end"
   ]
  },
  {
   "cell_type": "code",
   "execution_count": 3,
   "metadata": {
    "collapsed": false
   },
   "outputs": [
    {
     "data": {
      "text/plain": [
       "{\"+1\"=>5330, \"-1\"=>5330}"
      ]
     },
     "execution_count": 3,
     "metadata": {},
     "output_type": "execute_result"
    }
   ],
   "source": [
    "knock70"
   ]
  },
  {
   "cell_type": "markdown",
   "metadata": {},
   "source": [
    "# 71. ストップワード\n",
    "英語のストップワードのリスト（ストップリスト）を適当に作成せよ．さらに，引数に与えられた単語（文字列）がストップリストに含まれている場合は真，それ以外は偽を返す関数を実装せよ．さらに，その関数に対するテストを記述せよ．"
   ]
  },
  {
   "cell_type": "code",
   "execution_count": 4,
   "metadata": {
    "collapsed": false
   },
   "outputs": [
    {
     "data": {
      "text/plain": [
       ":is_stop?"
      ]
     },
     "execution_count": 4,
     "metadata": {},
     "output_type": "execute_result"
    }
   ],
   "source": [
    "# in order to check if the word is stop word with O(1)\n",
    "Stop_words = Hash.new {|hash, key| hash[key] = false}\n",
    "(Stopwords::STOP_WORDS + [\"'\", \",\", '.', \":\", \";\"]).each {|stop_word| Stop_words[stop_word] = true}\n",
    "\n",
    "def is_stop?(word)\n",
    "  Stop_words[word]\n",
    "end"
   ]
  },
  {
   "cell_type": "markdown",
   "metadata": {},
   "source": [
    "# 72. 素性抽出\n",
    "\n",
    "極性分析に有用そうな素性を各自で設計し，学習データから素性を抽出せよ．素性としては，レビューからストップワードを除去し，各単語をステミング処理したものが最低限のベースラインとなるであろう．"
   ]
  },
  {
   "cell_type": "code",
   "execution_count": 5,
   "metadata": {
    "collapsed": false
   },
   "outputs": [
    {
     "data": {
      "text/plain": [
       ":knock72"
      ]
     },
     "execution_count": 5,
     "metadata": {},
     "output_type": "execute_result"
    }
   ],
   "source": [
    "def knock72\n",
    "  labels = []\n",
    "  features = []\n",
    "\n",
    "  File.foreach('../data/sentiment.txt') do |line|\n",
    "    line.chomp!\n",
    "    label = line[0..1]\n",
    "    feature = line[3..-1]\n",
    "    labels << (label == '+1' ? 1 : 0)\n",
    "    features << feature\n",
    "  end\n",
    "\n",
    "  cv = Rblearn::CountVectorizer.new(lambda{|feature| feature.split.map(&:stem).map(&:downcase)}, 1, 0.7)\n",
    "  cv.fit_transform(features)\n",
    "\n",
    "  y = Numo::Int8.zeros([labels.size, 1])\n",
    "  labels.each_with_index do |label, i|\n",
    "    y[i, 0] = label\n",
    "  end\n",
    "\n",
    "  return [cv, y]\n",
    "end"
   ]
  },
  {
   "cell_type": "code",
   "execution_count": 6,
   "metadata": {
    "collapsed": false
   },
   "outputs": [
    {
     "data": {
      "text/plain": [
       "1"
      ]
     },
     "execution_count": 6,
     "metadata": {},
     "output_type": "execute_result"
    }
   ],
   "source": [
    "cv, y = knock72\n",
    "\n",
    "1"
   ]
  },
  {
   "cell_type": "markdown",
   "metadata": {},
   "source": [
    "# 73. 学習\n",
    "\n",
    "72で抽出した素性を用いて，ロジスティック回帰モデルを学習せよ．"
   ]
  },
  {
   "cell_type": "code",
   "execution_count": 7,
   "metadata": {
    "collapsed": false
   },
   "outputs": [
    {
     "data": {
      "text/plain": [
       ":loss"
      ]
     },
     "execution_count": 7,
     "metadata": {},
     "output_type": "execute_result"
    }
   ],
   "source": [
    "class LogisticRegressionModel\n",
    "  attr_accessor :w\n",
    "\n",
    "  def initialize(eta, threshold)\n",
    "    @eta = eta\n",
    "    @threshold = threshold\n",
    "  end\n",
    "  \n",
    "  \n",
    "  def h(x)\n",
    "    z = x.dot(@w)\n",
    "    return 1 / (1 + Numo::NMath.exp(-z))\n",
    "  end\n",
    "\n",
    "\n",
    "  def fit(x, y)\n",
    "    # @w = Numo::Float64.zeros([x.shape[1], 1])\n",
    "    @w = Numo::Float64.new([x.shape[1], 1]).rand\n",
    "    60.times do |t|\n",
    "\n",
    "      # p y-h(x)\n",
    "      # NOTE: there is something bug\n",
    "      @w = @w - @eta * x.transpose.dup.dot(h(x) - y) # x.T.dot(h(x) - y): gradient\n",
    "      puts \"#iter: #{t}, accuracy: #{score(x, y)} loss: #{loss(x, y)}\" if t % 5 == 0\n",
    "    end\n",
    "  end\n",
    "\n",
    "\n",
    "  def predict(x)\n",
    "    probabilities = h(x)\n",
    "    return probabilities > @threshold\n",
    "  end\n",
    "\n",
    "\n",
    "  def predict_prob(x)\n",
    "    return h(x)\n",
    "  end\n",
    "\n",
    "\n",
    "  def score(x, y)\n",
    "    predicted_class = predict(x)\n",
    "    num_data = predicted_class.shape[0]\n",
    "\n",
    "    py = predicted_class.to_a\n",
    "    ry = y.to_a\n",
    "\n",
    "    num_correct = 0\n",
    "    num_data.times do |t|\n",
    "      num_correct += 1 if (py[t] == ry[t])\n",
    "    end\n",
    "\n",
    "    return num_correct.to_f / num_data\n",
    "  end\n",
    "\n",
    "\n",
    "  def loss(x, y)\n",
    "    a = - Numo::NMath.log(h(x)).transpose.dot(y)[0, 0]\n",
    "    b = - Numo::NMath.log(1-h(x)).transpose.dot(1-y)\n",
    "    (a + b)[0, 0]\n",
    "  end\n",
    "end"
   ]
  },
  {
   "cell_type": "code",
   "execution_count": 8,
   "metadata": {
    "collapsed": false
   },
   "outputs": [
    {
     "name": "stdout",
     "output_type": "stream",
     "text": [
      "#iter: 0, accuracy: 0.5041543822031627 loss: 10730.811830595778\n",
      "#iter: 5, accuracy: 0.517689627445725 loss: 6306.869565439083\n",
      "#iter: 10, accuracy: 0.5349772179040472 loss: 5694.257477482135\n",
      "#iter: 15, accuracy: 0.5483784508174752 loss: 5380.862518014902\n",
      "#iter: 20, accuracy: 0.5601715357812919 loss: 5188.063445180318\n",
      "#iter: 25, accuracy: 0.569284374162423 loss: 5055.475991216219\n",
      "#iter: 30, accuracy: 0.5785312248726883 loss: 4957.42953088436\n",
      "#iter: 35, accuracy: 0.5876440632538193 loss: 4881.3184616528215\n",
      "#iter: 40, accuracy: 0.594210667381399 loss: 4820.0381273285475\n",
      "#iter: 45, accuracy: 0.6006432591798445 loss: 4769.230872131655\n",
      "#iter: 50, accuracy: 0.6045296167247387 loss: 4726.103535672672\n",
      "#iter: 55, accuracy: 0.6082819619404986 loss: 4688.795006291941\n",
      "test accuracy: 0.24202626641651032\n"
     ]
    }
   ],
   "source": [
    "x = cv.doc_matrix\n",
    "x_train, y_train, x_test, y_test = Rblearn::CrossValidation.train_test_split(x, y, 0.3).map(&:dup)\n",
    "model = LogisticRegressionModel.new(0.01, 0.5)\n",
    "model.fit(x_train, y_train)\n",
    "\n",
    "puts \"test accuracy: #{model.score(x_test, y_test)}\""
   ]
  },
  {
   "cell_type": "markdown",
   "metadata": {},
   "source": [
    "# 74. 予測\n",
    "\n",
    "73で学習したロジスティック回帰モデルを用い，与えられた文の極性ラベル（正例なら\"+1\"，負例なら\"-1\"）と，その予測確率を計算するプログラムを実装せよ．"
   ]
  },
  {
   "cell_type": "code",
   "execution_count": 9,
   "metadata": {
    "collapsed": false
   },
   "outputs": [
    {
     "name": "stdout",
     "output_type": "stream",
     "text": [
      "1\n",
      "0\n",
      "0\n",
      "1\n",
      "0\n",
      "1\n",
      "1\n",
      "0\n",
      "1\n",
      "0\n",
      "0\n",
      "1\n",
      "1\n",
      "0\n",
      "1\n",
      "1\n",
      "0\n",
      "1\n",
      "0\n",
      "0\n",
      "0\n",
      "0\n",
      "1\n",
      "0\n",
      "0\n",
      "1\n",
      "0\n",
      "0\n",
      "1\n",
      "1\n",
      "1\n"
     ]
    }
   ],
   "source": [
    "model.predict(x_test).each_with_index do |arr, index|\n",
    "  puts arr\n",
    "  break if index == 30\n",
    "end"
   ]
  },
  {
   "cell_type": "markdown",
   "metadata": {},
   "source": [
    "# 75. 素性の重み\n",
    "73で学習したロジスティック回帰モデルの中で，重みの高い素性トップ10と，重みの低い素性トップ10を確認せよ．"
   ]
  },
  {
   "cell_type": "code",
   "execution_count": 10,
   "metadata": {
    "collapsed": false
   },
   "outputs": [
    {
     "name": "stdout",
     "output_type": "stream",
     "text": [
      "high\n",
      "extraordinarili\t1.4234735162183512\n",
      "march\t1.3133718251779434\n",
      "what-if\t1.2849130613289004\n",
      "opera'\t1.2735434668402361\n",
      "abandon\t1.2544968153802107\n",
      "brave\t1.2396429960483555\n",
      "nanook\t1.2254701292072554\n",
      "drug-rel\t1.2208203618359303\n",
      "back-stori\t1.2183232544646632\n",
      "kid-empower\t1.1951112456043569\n",
      "low\n",
      "world'\t-1.164259334017026\n",
      "common\t-1.1508681624202455\n",
      "group\t-1.1011340740216355\n",
      "difficult\t-1.0888586590117568\n",
      "citi\t-0.9901832232428673\n",
      "invit\t-0.979207089251199\n",
      "pianist\t-0.9747608138891163\n",
      "fantasi\t-0.9614735207253302\n",
      "mention\t-0.9348572280644977\n",
      "sarandon\t-0.9201758788422133\n"
     ]
    },
    {
     "data": {
      "text/plain": [
       "1"
      ]
     },
     "execution_count": 10,
     "metadata": {},
     "output_type": "execute_result"
    }
   ],
   "source": [
    "feature_names = cv.get_feature_names\n",
    "weights = model.w.to_a.map{|arr| arr[0]}\n",
    "name_weights = {}\n",
    "\n",
    "feature_names.size.times do |t|\n",
    "  name_weights[feature_names[t]] = weights[t]\n",
    "end\n",
    "\n",
    "puts \"high\"\n",
    "name_weights.\n",
    "  sort{|(_, v1), (_, v2)| v2 <=> v1}.\n",
    "  first(10).\n",
    "  map{|arr| arr.join(\"\\t\")}.\n",
    "  each do |record|\n",
    "    puts record\n",
    "  end\n",
    "\n",
    "puts \"low\"\n",
    "name_weights.\n",
    "  sort{|(_, v1), (_, v2)| v1 <=> v2}.\n",
    "  first(10).\n",
    "  map{|arr| arr.join(\"\\t\")}.\n",
    "  each do |record|\n",
    "    puts record\n",
    "  end\n",
    "\n",
    "1"
   ]
  },
  {
   "cell_type": "markdown",
   "metadata": {},
   "source": [
    "# 76. ラベル付け\n",
    "\n",
    "学習データに対してロジスティック回帰モデルを適用し，正解のラベル，予測されたラベル，予測確率をタブ区切り形式で出力せよ．"
   ]
  },
  {
   "cell_type": "code",
   "execution_count": 11,
   "metadata": {
    "collapsed": false
   },
   "outputs": [
    {
     "name": "stdout",
     "output_type": "stream",
     "text": [
      "1\t1\t0.6536319565996026\n",
      "0\t0\t0.271940265221902\n",
      "0\t0\t0.4849206809791339\n",
      "0\t1\t0.9024429237125509\n",
      "1\t0\t0.23222288503703872\n",
      "0\t1\t0.7465775136794623\n",
      "0\t1\t0.7099363694623848\n",
      "1\t0\t0.45925540414273536\n",
      "1\t1\t0.8431491102311728\n",
      "1\t0\t0.39818265961313554\n",
      "0\t0\t0.18932336431019375\n",
      "0\t1\t0.5690796050586355\n",
      "0\t1\t0.7329526361808943\n",
      "1\t0\t0.3689935710023698\n",
      "1\t1\t0.5290729495098113\n",
      "0\t1\t0.6558701694514883\n",
      "1\t0\t0.31974313798630066\n",
      "1\t1\t0.6271283997463941\n",
      "1\t0\t0.21539448977047201\n",
      "1\t0\t0.4500968705260572\n",
      "1\t0\t0.14301422719898657\n",
      "1\t0\t0.3807089978675511\n",
      "0\t1\t0.6649513989090072\n",
      "1\t0\t0.394708319332091\n",
      "1\t0\t0.43283838644688366\n",
      "0\t1\t0.8734037482858135\n",
      "1\t0\t0.433918746839318\n",
      "1\t0\t0.40627393525721234\n",
      "0\t1\t0.5843112682794569\n",
      "0\t1\t0.9238929775830476\n"
     ]
    }
   ],
   "source": [
    "a = y_test.to_a.map{|arr| arr[0]}\n",
    "b = model.predict(x_test).to_a.map{|arr| arr[0]}\n",
    "c = model.predict_prob(x_test).to_a.map{|arr| arr[0]}\n",
    "\n",
    "output = open('../data/knock76.tsv', 'w')\n",
    "\n",
    "a.size.times do |t|\n",
    "  puts \"#{a[t]}\\t#{b[t]}\\t#{c[t]}\" if t < 30\n",
    "  output.puts \"#{a[t]}\\t#{b[t]}\\t#{c[t]}\"\n",
    "end\n",
    "\n",
    "output.close"
   ]
  },
  {
   "cell_type": "markdown",
   "metadata": {},
   "source": [
    "# 77. 正解率の計測\n",
    "\n",
    "76の出力を受け取り，予測の正解率，正例に関する適合率，再現率，F1スコアを求めるプログラムを作成せよ．"
   ]
  },
  {
   "cell_type": "code",
   "execution_count": 12,
   "metadata": {
    "collapsed": false
   },
   "outputs": [
    {
     "name": "stdout",
     "output_type": "stream",
     "text": [
      "precision: 0.2433392539964476\n",
      "recall: 0.7360308285163777\n",
      "F-1 score: 0.3657558994859681\n"
     ]
    }
   ],
   "source": [
    "num_all = 0\n",
    "num1 = 0.0\n",
    "num2 = 0.0\n",
    "num3 = 0.0\n",
    "\n",
    "# a is the actual label\n",
    "# b is the predicted label\n",
    "File.foreach('../data/knock76.tsv') do |line|\n",
    "  num_all += 1\n",
    "\n",
    "  a, b, _ = line.split.map(&:to_f)\n",
    "  \n",
    "  if b == 1\n",
    "    if a == 1\n",
    "      num1 += 1\n",
    "    elsif a == 0\n",
    "      num2 += 1\n",
    "    end\n",
    "  elsif b == 0 && a == 1\n",
    "    num3 += 1\n",
    "  end\n",
    "end\n",
    "\n",
    "precision = num1 / (num1 + num2)\n",
    "recall = num3 / (num1 + num3)\n",
    "\n",
    "puts \"precision: #{precision}\"\n",
    "puts \"recall: #{recall}\"\n",
    "puts \"F-1 score: #{2*precision*recall / (precision + recall)}\""
   ]
  },
  {
   "cell_type": "markdown",
   "metadata": {},
   "source": [
    "# 78. 5分割交差検定\n",
    "\n",
    "76-77の実験では，学習に用いた事例を評価にも用いたため，正当な評価とは言えない．すなわち，分類器が訓練事例を丸暗記する際の性能を評価しており，モデルの汎化性能を測定していない．そこで，5分割交差検定により，極性分類の正解率，適合率，再現率，F1スコアを求めよ．"
   ]
  },
  {
   "cell_type": "code",
   "execution_count": 41,
   "metadata": {
    "collapsed": false
   },
   "outputs": [
    {
     "name": "stdout",
     "output_type": "stream",
     "text": [
      "#iter: 0, accuracy: 0.5017589118198874 loss: 12202.52680232824\n",
      "#iter: 5, accuracy: 0.5082082551594747 loss: 7236.651213714602\n",
      "#iter: 10, accuracy: 0.5184099437148217 loss: 6591.342166051503\n",
      "#iter: 15, accuracy: 0.5291979362101313 loss: 6269.9266303445675\n",
      "#iter: 20, accuracy: 0.5377579737335835 loss: 6077.294943179975\n",
      "#iter: 25, accuracy: 0.5459662288930581 loss: 5948.93198111173\n",
      "#iter: 30, accuracy: 0.5513602251407129 loss: 5856.699414554877\n",
      "#iter: 35, accuracy: 0.5565196998123827 loss: 5786.61470028977\n",
      "#iter: 40, accuracy: 0.562734521575985 loss: 5731.063864328684\n",
      "#iter: 45, accuracy: 0.5667213883677298 loss: 5685.590769736164\n",
      "#iter: 50, accuracy: 0.5689493433395872 loss: 5647.423896535483\n",
      "#iter: 55, accuracy: 0.5716463414634146 loss: 5614.746518778138\n",
      "test accuracy: 0.2049718574108818\n",
      "#iter: 0, accuracy: 0.5003517823639775 loss: 11993.33572467843\n",
      "#iter: 5, accuracy: 0.5094981238273921 loss: 7216.827084973813\n",
      "#iter: 10, accuracy: 0.5191135084427767 loss: 6582.678490971446\n",
      "#iter: 15, accuracy: 0.5294324577861164 loss: 6268.443956175377\n",
      "#iter: 20, accuracy: 0.5377579737335835 loss: 6079.221745509425\n",
      "#iter: 25, accuracy: 0.5442073170731707 loss: 5951.546245619722\n",
      "#iter: 30, accuracy: 0.5510084427767354 loss: 5858.787683600052\n",
      "#iter: 35, accuracy: 0.5565196998123827 loss: 5787.868537760125\n",
      "#iter: 40, accuracy: 0.561796435272045 loss: 5731.603028502122\n",
      "#iter: 45, accuracy: 0.5649624765478424 loss: 5685.648025205905\n",
      "#iter: 50, accuracy: 0.5696529080675422 loss: 5647.20374703364\n",
      "#iter: 55, accuracy: 0.5724671669793621 loss: 5614.392935514832\n",
      "test accuracy: 0.20121951219512196\n",
      "#iter: 0, accuracy: 0.49437148217636023 loss: 11916.680152401757\n",
      "#iter: 5, accuracy: 0.5103189493433395 loss: 7223.827297542878\n",
      "#iter: 10, accuracy: 0.5214587242026266 loss: 6576.717454316848\n",
      "#iter: 15, accuracy: 0.5297842401500938 loss: 6252.538230750538\n",
      "#iter: 20, accuracy: 0.5389305816135085 loss: 6057.212163694445\n",
      "#iter: 25, accuracy: 0.5463180112570356 loss: 5926.578717258103\n",
      "#iter: 30, accuracy: 0.5548780487804879 loss: 5832.802368821716\n",
      "#iter: 35, accuracy: 0.5610928705440901 loss: 5761.752083274222\n",
      "#iter: 40, accuracy: 0.5666041275797373 loss: 5705.605277119823\n",
      "#iter: 45, accuracy: 0.5712945590994372 loss: 5659.76506687432\n",
      "#iter: 50, accuracy: 0.574343339587242 loss: 5621.371317259433\n",
      "#iter: 55, accuracy: 0.5768058161350844 loss: 5588.549623450643\n",
      "test accuracy: 0.18808630393996248\n",
      "#iter: 0, accuracy: 0.5010553470919324 loss: 12202.030739666436\n",
      "#iter: 5, accuracy: 0.5145403377110694 loss: 7196.370885604402\n",
      "#iter: 10, accuracy: 0.5240384615384616 loss: 6572.120685469367\n",
      "#iter: 15, accuracy: 0.5309568480300187 loss: 6253.714773266434\n",
      "#iter: 20, accuracy: 0.538344277673546 loss: 6060.996780256917\n",
      "#iter: 25, accuracy: 0.5463180112570356 loss: 5931.524194992717\n",
      "#iter: 30, accuracy: 0.5531191369606003 loss: 5837.924167401911\n",
      "#iter: 35, accuracy: 0.5590994371482176 loss: 5766.622384228698\n",
      "#iter: 40, accuracy: 0.5635553470919324 loss: 5710.146554521482\n",
      "#iter: 45, accuracy: 0.5682457786116323 loss: 5664.046867425399\n",
      "#iter: 50, accuracy: 0.5715290806754222 loss: 5625.499037545274\n",
      "#iter: 55, accuracy: 0.5753986866791745 loss: 5592.619924249457\n",
      "test accuracy: 0.18761726078799248\n",
      "#iter: 0, accuracy: 0.5038696060037523 loss: 11817.967875729177\n",
      "#iter: 5, accuracy: 0.5096153846153846 loss: 7178.36697464593\n",
      "#iter: 10, accuracy: 0.5226313320825516 loss: 6562.785122681513\n",
      "#iter: 15, accuracy: 0.5331848030018762 loss: 6249.019507787123\n",
      "#iter: 20, accuracy: 0.5425656660412758 loss: 6059.6002895245365\n",
      "#iter: 25, accuracy: 0.5486632270168855 loss: 5932.910518427624\n",
      "#iter: 30, accuracy: 0.5546435272045028 loss: 5841.538571013935\n",
      "#iter: 35, accuracy: 0.5595684803001876 loss: 5771.884143023193\n",
      "#iter: 40, accuracy: 0.5655487804878049 loss: 5716.554174139377\n",
      "#iter: 45, accuracy: 0.5694183864915572 loss: 5671.199221827006\n",
      "#iter: 50, accuracy: 0.5722326454033771 loss: 5633.091994792094\n",
      "#iter: 55, accuracy: 0.5745778611632271 loss: 5600.433791028132\n",
      "test accuracy: 0.19183864915572232\n"
     ]
    },
    {
     "data": {
      "text/plain": [
       "1"
      ]
     },
     "execution_count": 41,
     "metadata": {},
     "output_type": "execute_result"
    }
   ],
   "source": [
    "kfold = Rblearn::CrossValidation::KFold.new(x.shape[0], 5, true)\n",
    "model =  LogisticRegressionModel.new(0.01, 0.5)\n",
    "\n",
    "kfold.create.each do |train_indices, test_indices|\n",
    "  x_train = x[train_indices, true]\n",
    "  y_train = y[train_indices, true]\n",
    "\n",
    "  x_test = x[test_indices, true]\n",
    "  y_test = y[test_indices, true]\n",
    "  \n",
    "  model.fit(x_train, y_train)\n",
    "  puts \"test accuracy: #{model.score(x_test, y_test)}\"\n",
    "end\n",
    "\n",
    "1"
   ]
  }
 ],
 "metadata": {
  "kernelspec": {
   "display_name": "Ruby 2.3.0",
   "language": "ruby",
   "name": "ruby"
  },
  "language_info": {
   "file_extension": ".rb",
   "mimetype": "application/x-ruby",
   "name": "ruby",
   "version": "2.3.0"
  }
 },
 "nbformat": 4,
 "nbformat_minor": 0
}
