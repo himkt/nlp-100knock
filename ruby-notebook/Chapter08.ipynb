{
 "cells": [
  {
   "cell_type": "code",
   "execution_count": 1,
   "metadata": {
    "collapsed": false
   },
   "outputs": [
    {
     "data": {
      "text/plain": [
       "false"
      ]
     },
     "execution_count": 1,
     "metadata": {},
     "output_type": "execute_result"
    }
   ],
   "source": [
    "require 'stopwords'\n",
    "require 'rblearn'\n",
    "require 'stemmify'\n",
    "require 'numo/narray'\n",
    "require 'rblearn'"
   ]
  },
  {
   "cell_type": "markdown",
   "metadata": {},
   "source": [
    "# 70. データの入手・整形\n",
    "\n",
    "文に関する極性分析の正解データを用い，以下の要領で正解データ（sentiment.txt）を作成せよ．\n",
    "\n",
    "rt-polarity.posの各行の先頭に\"+1 \"という文字列を追加する（極性ラベル\"+1\"とスペースに続けて肯定的な文の内容が続く）\n",
    "rt-polarity.negの各行の先頭に\"-1 \"という文字列を追加する（極性ラベル\"-1\"とスペースに続けて否定的な文の内容が続く）\n",
    "上述1と2の内容を結合（concatenate）し，行をランダムに並び替える\n",
    "sentiment.txtを作成したら，正例（肯定的な文）の数と負例（否定的な文）の数を確認せよ．"
   ]
  },
  {
   "cell_type": "code",
   "execution_count": 2,
   "metadata": {
    "collapsed": false
   },
   "outputs": [
    {
     "data": {
      "text/plain": [
       ":knock70"
      ]
     },
     "execution_count": 2,
     "metadata": {},
     "output_type": "execute_result"
    }
   ],
   "source": [
    "def knock70\n",
    "  pos = File.open(\"../data/rt-polaritydata/rt-polarity.pos\").read\n",
    "  neg = File.open(\"../data/rt-polaritydata/rt-polarity.pos\").read\n",
    "\n",
    "  pos_tagged = pos.split(\"\\n\").map {|line| \"+1 #{line}\"}\n",
    "  neg_tagged = neg.split(\"\\n\").map {|line| \"-1 #{line}\"}\n",
    "  sen = (pos_tagged + neg_tagged).shuffle\n",
    "  counter = {\"+1\" => 0, \"-1\" => 0}\n",
    "\n",
    "  out = File.open(\"../data/sentiment.txt\", \"w\")\n",
    "  sen.each do |line|\n",
    "    out.puts line\n",
    "  end\n",
    "  out.close\n",
    "\n",
    "  open('../data/sentiment.txt').each_line do |line|\n",
    "    counter[line[0..1]] += 1\n",
    "  end\n",
    "\n",
    "  return counter\n",
    "end"
   ]
  },
  {
   "cell_type": "code",
   "execution_count": 3,
   "metadata": {
    "collapsed": false
   },
   "outputs": [
    {
     "data": {
      "text/plain": [
       "{\"+1\"=>5330, \"-1\"=>5330}"
      ]
     },
     "execution_count": 3,
     "metadata": {},
     "output_type": "execute_result"
    }
   ],
   "source": [
    "knock70"
   ]
  },
  {
   "cell_type": "markdown",
   "metadata": {},
   "source": [
    "# 71. ストップワード\n",
    "英語のストップワードのリスト（ストップリスト）を適当に作成せよ．さらに，引数に与えられた単語（文字列）がストップリストに含まれている場合は真，それ以外は偽を返す関数を実装せよ．さらに，その関数に対するテストを記述せよ．\n",
    "\n",
    "# 72. 素性抽出\n",
    "極性分析に有用そうな素性を各自で設計し，学習データから素性を抽出せよ．素性としては，レビューからストップワードを除去し，各単語をステミング処理したものが最低限のベースラインとなるであろう．"
   ]
  },
  {
   "cell_type": "code",
   "execution_count": 4,
   "metadata": {
    "collapsed": false
   },
   "outputs": [
    {
     "data": {
      "text/plain": [
       ":knock72"
      ]
     },
     "execution_count": 4,
     "metadata": {},
     "output_type": "execute_result"
    }
   ],
   "source": [
    "def knock72\n",
    "  labels = []\n",
    "  features = []\n",
    "\n",
    "  File.foreach('../data/sentiment.txt') do |line|\n",
    "    line.chomp!\n",
    "    label = line[0..1]\n",
    "    feature = line[3..-1]\n",
    "    labels << (label == '+1' ? 1 : 0)\n",
    "    features << feature\n",
    "  end\n",
    "\n",
    "  cv = Rblearn::CountVectorizer.new(lambda{|feature| feature.split.map(&:stem).map(&:downcase)}, 1, 0.7)\n",
    "  cv.fit_transform(features)\n",
    "\n",
    "  y = Numo::Int8.zeros([labels.size, 1])\n",
    "  labels.each_with_index do |label, i|\n",
    "    y[i, 0] = label\n",
    "  end\n",
    "\n",
    "  return [cv, y]\n",
    "end"
   ]
  },
  {
   "cell_type": "code",
   "execution_count": 5,
   "metadata": {
    "collapsed": false
   },
   "outputs": [
    {
     "data": {
      "text/plain": [
       "1"
      ]
     },
     "execution_count": 5,
     "metadata": {},
     "output_type": "execute_result"
    }
   ],
   "source": [
    "cv, y = knock72\n",
    "\n",
    "1"
   ]
  },
  {
   "cell_type": "markdown",
   "metadata": {},
   "source": [
    "# 73. 学習\n",
    "\n",
    "72で抽出した素性を用いて，ロジスティック回帰モデルを学習せよ．"
   ]
  },
  {
   "cell_type": "code",
   "execution_count": 28,
   "metadata": {
    "collapsed": false
   },
   "outputs": [
    {
     "data": {
      "text/plain": [
       ":score"
      ]
     },
     "execution_count": 28,
     "metadata": {},
     "output_type": "execute_result"
    }
   ],
   "source": [
    "class LogisticRegressionModel\n",
    "  attr_accessor :w\n",
    "\n",
    "  def initialize(eta, threshold)\n",
    "    @eta = eta\n",
    "    @threshold = threshold\n",
    "  end\n",
    "  \n",
    "  \n",
    "  def h(x)\n",
    "    z = x.dot(@w)\n",
    "    return 1 / (1 + Numo::NMath.exp(-z))\n",
    "  end\n",
    "\n",
    "\n",
    "  def fit(x, y)\n",
    "    @w = Numo::Float64.new([x.shape[1], 1]).rand\n",
    "    5.times do |t|\n",
    "\n",
    "      # p y-h(x)\n",
    "      # NOTE: there is something bug\n",
    "      @w = @w - @eta * x.transpose.dup.dot(h(x) - y) # x.T.dot(h(x) - y): gradient\n",
    "      puts \"#iter: #{t}, accuracy: #{score(x, y)}\" if t % 5 == 0\n",
    "    end\n",
    "  end\n",
    "\n",
    "\n",
    "  def predict(x)\n",
    "    probabilities = h(x)\n",
    "    return probabilities > @threshold\n",
    "  end\n",
    "\n",
    "\n",
    "  def predict_prob(x)\n",
    "    return h(x)\n",
    "  end\n",
    "\n",
    "\n",
    "  def score(x, y)\n",
    "    predicted_class = predict(x)\n",
    "    num_data = predicted_class.shape[0]\n",
    "\n",
    "    py = predicted_class.to_a\n",
    "    ry = y.to_a\n",
    "\n",
    "    num_correct = 0\n",
    "    num_data.times do |t|\n",
    "      num_correct += 1 if py[t] == ry[t]\n",
    "    end\n",
    "    return num_correct.to_f / num_data\n",
    "  end\n",
    "end"
   ]
  },
  {
   "cell_type": "code",
   "execution_count": 7,
   "metadata": {
    "collapsed": false
   },
   "outputs": [
    {
     "name": "stdout",
     "output_type": "stream",
     "text": [
      "#iter: 0, accuracy: 0.500187617260788\n",
      "#iter: 5, accuracy: 0.5581613508442776\n",
      "#iter: 10, accuracy: 0.5864915572232645\n",
      "#iter: 15, accuracy: 0.6054409005628518\n",
      "#iter: 20, accuracy: 0.6210131332082551\n",
      "#iter: 25, accuracy: 0.6330206378986867\n",
      "test accuracy: 0.3600375234521576\n"
     ]
    }
   ],
   "source": [
    "x = cv.doc_matrix\n",
    "x_train, y_train, x_test, y_test = Rblearn::CrossValidation.train_test_split(x, y, 0.5).map(&:dup)\n",
    "\n",
    "model = LogisticRegressionModel.new(0.02, 0.7)\n",
    "model.fit(x_train, y_train)\n",
    "\n",
    "puts \"test accuracy: #{model.score(x_test, y_test)}\""
   ]
  },
  {
   "cell_type": "markdown",
   "metadata": {},
   "source": [
    "# 74. 予測\n",
    "\n",
    "73で学習したロジスティック回帰モデルを用い，与えられた文の極性ラベル（正例なら\"+1\"，負例なら\"-1\"）と，その予測確率を計算するプログラムを実装せよ．"
   ]
  },
  {
   "cell_type": "code",
   "execution_count": 34,
   "metadata": {
    "collapsed": false
   },
   "outputs": [
    {
     "name": "stdout",
     "output_type": "stream",
     "text": [
      "0\n",
      "1\n",
      "0\n",
      "0\n",
      "0\n",
      "0\n",
      "0\n",
      "0\n",
      "0\n",
      "0\n",
      "0\n",
      "0\n",
      "0\n",
      "0\n",
      "0\n",
      "0\n",
      "0\n",
      "0\n",
      "0\n",
      "0\n",
      "0\n",
      "1\n",
      "0\n",
      "0\n",
      "1\n",
      "1\n",
      "0\n",
      "0\n",
      "1\n",
      "1\n",
      "0\n"
     ]
    }
   ],
   "source": [
    "model.predict(x_test).each_with_index do |arr, index|\n",
    "  puts arr\n",
    "  break if index == 30\n",
    "end"
   ]
  },
  {
   "cell_type": "markdown",
   "metadata": {},
   "source": [
    "# 75. 素性の重み\n",
    "73で学習したロジスティック回帰モデルの中で，重みの高い素性トップ10と，重みの低い素性トップ10を確認せよ．"
   ]
  },
  {
   "cell_type": "code",
   "execution_count": 14,
   "metadata": {
    "collapsed": false
   },
   "outputs": [
    {
     "name": "stdout",
     "output_type": "stream",
     "text": [
      "high\n",
      "tragedi\t5.533292656509563\n",
      "distanc\t5.378454726024288\n",
      "kick\t5.101951269716\n",
      "rel\t5.066501398820613\n",
      "stuart\t5.0333344181269775\n",
      "stereotyp\t4.886598383118593\n",
      "stage\t4.728879366486668\n",
      "teacher\t4.572382275855271\n",
      "wish\t4.541008714905942\n",
      "skin\t4.522752797367518\n",
      "low\n",
      "transform\t-5.676555627079279\n",
      "twice\t-4.180186273969201\n",
      "contemporari\t-4.119185328894374\n",
      "unlik\t-4.050743764233494\n",
      "hand\t-3.7945183277249255\n",
      "succumb\t-3.7264854000511427\n",
      "obsess\t-3.6547692665495615\n",
      "inner\t-3.6260473664174806\n",
      "reminisc\t-3.592334680394191\n",
      "chemistri\t-3.4140663314468775\n"
     ]
    },
    {
     "data": {
      "text/plain": [
       "1"
      ]
     },
     "execution_count": 14,
     "metadata": {},
     "output_type": "execute_result"
    }
   ],
   "source": [
    "feature_names = cv.get_feature_names\n",
    "weights = model.w.to_a.map{|arr| arr[0]}\n",
    "name_weights = {}\n",
    "\n",
    "feature_names.size.times do |t|\n",
    "  name_weights[feature_names[t]] = weights[t]\n",
    "end\n",
    "\n",
    "puts \"high\"\n",
    "name_weights.\n",
    "  sort{|(_, v1), (_, v2)| v2 <=> v1}.\n",
    "  first(10).\n",
    "  map{|arr| arr.join(\"\\t\")}.\n",
    "  each do |record|\n",
    "    puts record\n",
    "  end\n",
    "\n",
    "puts \"low\"\n",
    "name_weights.\n",
    "  sort{|(_, v1), (_, v2)| v1 <=> v2}.\n",
    "  first(10).\n",
    "  map{|arr| arr.join(\"\\t\")}.\n",
    "  each do |record|\n",
    "    puts record\n",
    "  end\n",
    "\n",
    "1"
   ]
  },
  {
   "cell_type": "markdown",
   "metadata": {},
   "source": [
    "# 76. ラベル付け\n",
    "\n",
    "学習データに対してロジスティック回帰モデルを適用し，正解のラベル，予測されたラベル，予測確率をタブ区切り形式で出力せよ．"
   ]
  },
  {
   "cell_type": "code",
   "execution_count": 24,
   "metadata": {
    "collapsed": false
   },
   "outputs": [
    {
     "name": "stdout",
     "output_type": "stream",
     "text": [
      "1\t1\t0.9999691570177368\n",
      "1\t1\t0.9990848192291869\n",
      "1\t1\t0.9871991121228477\n",
      "1\t1\t0.8445673254075029\n",
      "0\t1\t0.5605188137447192\n",
      "0\t0\t0.49714818223415636\n",
      "0\t1\t0.9999986746051605\n",
      "1\t1\t0.9997669959821033\n",
      "1\t1\t0.9998234493131791\n",
      "0\t1\t0.7941341961964655\n",
      "1\t1\t0.949900664390127\n",
      "1\t1\t0.9998197454641644\n",
      "0\t1\t0.946746589087656\n",
      "1\t0\t0.43213023953295665\n",
      "0\t1\t0.9997769010500968\n",
      "0\t1\t0.9989366012614198\n",
      "1\t1\t0.9263939475522653\n",
      "1\t0\t0.29042444666376477\n",
      "0\t1\t0.9998415776384834\n",
      "0\t1\t0.9874574895172559\n",
      "0\t1\t0.9985453105630353\n",
      "0\t1\t0.7993134501261226\n",
      "1\t1\t0.8047494763801611\n",
      "1\t1\t0.9998318617956068\n",
      "0\t1\t0.996423503007124\n",
      "0\t1\t0.9999998011745099\n",
      "1\t0\t0.23610523815499684\n",
      "1\t1\t0.9652479357643858\n",
      "0\t1\t0.9434602299173194\n",
      "1\t1\t0.9882528790542259\n"
     ]
    }
   ],
   "source": [
    "a = y_test.to_a.map{|arr| arr[0]}\n",
    "b = model.predict(x_test).to_a.map{|arr| arr[0]}\n",
    "c = model.predict_prob(x_test).to_a.map{|arr| arr[0]}\n",
    "\n",
    "output = open('../data/knock76.tsv', 'w')\n",
    "\n",
    "a.size.times do |t|\n",
    "  puts \"#{a[t]}\\t#{b[t]}\\t#{c[t]}\" if t < 30\n",
    "  output.puts \"#{a[t]}\\t#{b[t]}\\t#{c[t]}\"\n",
    "end\n",
    "\n",
    "output.close"
   ]
  },
  {
   "cell_type": "markdown",
   "metadata": {},
   "source": [
    "# 77. 正解率の計測\n",
    "\n",
    "76の出力を受け取り，予測の正解率，正例に関する適合率，再現率，F1スコアを求めるプログラムを作成せよ．"
   ]
  },
  {
   "cell_type": "code",
   "execution_count": 26,
   "metadata": {
    "collapsed": false
   },
   "outputs": [
    {
     "name": "stdout",
     "output_type": "stream",
     "text": [
      "precision: 0.4161551681807022\n",
      "recall: 0.37546057479734707\n",
      "F-1 score: 0.3947618779338646\n"
     ]
    }
   ],
   "source": [
    "num_all = 0\n",
    "num1 = 0.0\n",
    "num2 = 0.0\n",
    "num3 = 0.0\n",
    "\n",
    "# a is the actual label\n",
    "# b is the predicted label\n",
    "File.foreach('../data/knock76.tsv') do |line|\n",
    "  num_all += 1\n",
    "\n",
    "  a, b, _ = line.split.map(&:to_f)\n",
    "  \n",
    "  if b == 1\n",
    "    if a == 1\n",
    "      num1 += 1\n",
    "    elsif a == 0\n",
    "      num2 += 1\n",
    "    end\n",
    "  elsif b == 0 && a == 1\n",
    "    num3 += 1\n",
    "  end\n",
    "end\n",
    "\n",
    "precision = num1 / (num1 + num2)\n",
    "recall = num3 / (num1 + num3)\n",
    "\n",
    "puts \"precision: #{precision}\"\n",
    "puts \"recall: #{recall}\"\n",
    "puts \"F-1 score: #{2*precision*recall / (precision + recall)}\""
   ]
  }
 ],
 "metadata": {
  "kernelspec": {
   "display_name": "Ruby 2.3.0",
   "language": "ruby",
   "name": "ruby"
  },
  "language_info": {
   "file_extension": ".rb",
   "mimetype": "application/x-ruby",
   "name": "ruby",
   "version": "2.3.0"
  }
 },
 "nbformat": 4,
 "nbformat_minor": 0
}
