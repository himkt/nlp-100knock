{
 "cells": [
  {
   "cell_type": "code",
   "execution_count": 6,
   "metadata": {
    "collapsed": false
   },
   "outputs": [
    {
     "data": {
      "text/plain": [
       "true"
      ]
     },
     "execution_count": 6,
     "metadata": {},
     "output_type": "execute_result"
    }
   ],
   "source": [
    "require 'countries'\n",
    "require 'numo/narray'\n",
    "require 'numo/linalg'\n",
    "require 'nmatrix'\n",
    "require 'nmatrix/lapacke'"
   ]
  },
  {
   "cell_type": "markdown",
   "metadata": {},
   "source": [
    "## 注意\n",
    "\n",
    "81でつくったdocをテキストファイルに出力したやつ(../data/enwiki_for_knock81.txt)を使う\n",
    "\n",
    "```ruby\n",
    "doc.each do |sentence|\n",
    "  puts sentence\n",
    "end\n",
    "```\n",
    "\n",
    "しただけ．"
   ]
  },
  {
   "cell_type": "markdown",
   "metadata": {},
   "source": [
    "# 90. word2vecによる学習\n",
    "\n",
    "81で作成したコーパスに対してword2vecを適用し，単語ベクトルを学習せよ．さらに，学習した単語ベクトルの形式を変換し，86-89のプログラムを動かせ．\n",
    "\n",
    "```\n",
    "word2vec -train ../data/enwiki_for_knock90.txt -output ../data/embedding.txt -binary 0 -size 200\n",
    "```"
   ]
  },
  {
   "cell_type": "code",
   "execution_count": 85,
   "metadata": {
    "collapsed": false
   },
   "outputs": [
    {
     "data": {
      "text/plain": [
       "1"
      ]
     },
     "execution_count": 85,
     "metadata": {},
     "output_type": "execute_result"
    }
   ],
   "source": [
    "# word2vecが作った単語ベクトルを読み込む\n",
    "\n",
    "mat = nil\n",
    "word2id = {}\n",
    "id2word = {}\n",
    "\n",
    "File.foreach('../data/embedding.txt').with_index do |line, index|\n",
    "  (mat = Numo::Float64.new([82810, 200]).rand; next) if index == 0\n",
    "  elem = line.chomp.split\n",
    "  word = elem[0]\n",
    "  word2id[word] = index\n",
    "  id2word[index] = word\n",
    "  \n",
    "  elem[1..-1].map(&:to_f).each_with_index do |f, j|\n",
    "    mat[index-1, j] = f\n",
    "  end\n",
    "end\n",
    "\n",
    "1"
   ]
  },
  {
   "cell_type": "code",
   "execution_count": 86,
   "metadata": {
    "collapsed": false
   },
   "outputs": [
    {
     "name": "stdout",
     "output_type": "stream",
     "text": [
      "Numo::DFloat(view)#shape=[200]\n",
      "[-0.103333, 0.065873, -0.103231, -0.036022, 0.166642, -0.026725, -0.067496, ...]\n",
      "Numo::DFloat(view)#shape=[200]\n",
      "[-0.354561, -0.138336, 0.065854, 0.164709, 0.065358, -0.120392, 0.115092, ...]\n"
     ]
    },
    {
     "data": {
      "text/plain": [
       "0.2927535041204309"
      ]
     },
     "execution_count": 86,
     "metadata": {},
     "output_type": "execute_result"
    }
   ],
   "source": [
    "# ベクトルのノルムを計算するメソッドが見つからなかった．\n",
    "def norm(vec)\n",
    "  Math.sqrt(vec.to_a.inject(0){|sum, e| sum += e**2})\n",
    "end\n",
    "\n",
    "# knock86\n",
    "vec_United_States = mat[word2id['United_States'], true]\n",
    "vec_US = mat[word2id['US'], true]\n",
    "p vec_United_States, vec_US\n",
    "\n",
    "# knock87\n",
    "vec_US.dot(vec_United_States) / (norm(vec_US) * norm(vec_United_States))"
   ]
  },
  {
   "cell_type": "markdown",
   "metadata": {},
   "source": [
    "# 97. k-meansクラスタリング\n",
    "\n",
    "96の単語ベクトルに対して，k-meansクラスタリングをクラスタ数k=5k=5として実行せよ．"
   ]
  },
  {
   "cell_type": "code",
   "execution_count": 96,
   "metadata": {
    "collapsed": false
   },
   "outputs": [
    {
     "data": {
      "text/plain": [
       "1"
      ]
     },
     "execution_count": 96,
     "metadata": {},
     "output_type": "execute_result"
    }
   ],
   "source": [
    "# label\n",
    "y = Numo::Int8.new([mat.shape[0], 1]).fill(1)\n",
    "\n",
    "1"
   ]
  },
  {
   "cell_type": "markdown",
   "metadata": {},
   "source": [
    "# 98. Ward法によるクラスタリング\n",
    "96の単語ベクトルに対して，Ward法による階層型クラスタリングを実行せよ．さらに，クラスタリング結果をデンドログラムとして可視化せよ．"
   ]
  },
  {
   "cell_type": "markdown",
   "metadata": {},
   "source": [
    "# 99. t-SNEによる可視化\n",
    "96の単語ベクトルに対して，ベクトル空間をt-SNEで可視化せよ．"
   ]
  }
 ],
 "metadata": {
  "kernelspec": {
   "display_name": "Ruby 2.3.0",
   "language": "ruby",
   "name": "ruby"
  },
  "language_info": {
   "file_extension": ".rb",
   "mimetype": "application/x-ruby",
   "name": "ruby",
   "version": "2.3.0"
  }
 },
 "nbformat": 4,
 "nbformat_minor": 0
}
